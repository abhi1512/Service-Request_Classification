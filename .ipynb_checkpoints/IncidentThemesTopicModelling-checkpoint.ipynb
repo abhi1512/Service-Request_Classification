{
 "cells": [
  {
   "cell_type": "markdown",
   "metadata": {
    "colab_type": "text",
    "id": "7q9tsZ4hqufF"
   },
   "source": [
    "# **COVID 19 Impact on Ecommerce ASSIGNMENT**\n",
    "\n",
    "\n",
    "---\n",
    "\n",
    "\n",
    "\n",
    "Assignment\n",
    "\n",
    "---\n",
    "\n"
   ]
  },
  {
   "cell_type": "markdown",
   "metadata": {
    "colab_type": "text",
    "id": "upjKWap6s37e"
   },
   "source": [
    "**Team:** Team Vishleshi\n",
    "\n",
    "\n",
    "---\n",
    "\n",
    "\n",
    "\n",
    "\n",
    "\n",
    "\n",
    "\n",
    "\n",
    "\n"
   ]
  },
  {
   "cell_type": "markdown",
   "metadata": {
    "colab_type": "text",
    "id": "M7GEECcAs-kS"
   },
   "source": [
    "## **Abstract**\n",
    "\n",
    "Foo bar..\n",
    "\n",
    "\n",
    "---\n",
    "\n",
    "\n",
    "\n",
    "\n"
   ]
  },
  {
   "cell_type": "markdown",
   "metadata": {
    "colab_type": "text",
    "id": "BGf9xkiWueBr"
   },
   "source": [
    "## **Problem Statement & Business Context**\n",
    "\n",
    "The details of the problem context and the analytical overview can be found HERE\n",
    "\n",
    "\n",
    "\n",
    "---\n",
    "\n",
    "\n",
    "\n",
    "\n",
    "\n",
    "\n",
    "\n"
   ]
  },
  {
   "cell_type": "markdown",
   "metadata": {
    "colab_type": "text",
    "id": "E0UYAVPKv2Ae"
   },
   "source": [
    "## **Exploratory Data Analysis**"
   ]
  },
  {
   "cell_type": "code",
   "execution_count": 1,
   "metadata": {},
   "outputs": [],
   "source": [
    "#!pip install gensim\n",
    "#!pip install wordcloud"
   ]
  },
  {
   "cell_type": "markdown",
   "metadata": {
    "colab_type": "text",
    "id": "81QwC8H5wEqC"
   },
   "source": [
    "### Print Formats & Libraries"
   ]
  },
  {
   "cell_type": "code",
   "execution_count": 1,
   "metadata": {
    "colab": {},
    "colab_type": "code",
    "id": "pUajaU7HuiUU"
   },
   "outputs": [],
   "source": [
    "class color:\n",
    "   PURPLE = '\\033[95m'\n",
    "   CYAN = '\\033[96m'\n",
    "   DARKCYAN = '\\033[36m'\n",
    "   BLUE = '\\033[94m'\n",
    "   GREEN = '\\033[92m'\n",
    "   YELLOW = '\\033[93m'\n",
    "   RED = '\\033[91m'\n",
    "   BOLD = '\\033[1m'\n",
    "   UNDERLINE = '\\033[4m'\n",
    "   END = '\\033[0m'"
   ]
  },
  {
   "cell_type": "code",
   "execution_count": 2,
   "metadata": {
    "colab": {
     "base_uri": "https://localhost:8080/",
     "height": 35
    },
    "colab_type": "code",
    "executionInfo": {
     "elapsed": 3901,
     "status": "ok",
     "timestamp": 1592031244782,
     "user": {
      "displayName": "Abhinav Kimothi",
      "photoUrl": "https://lh3.googleusercontent.com/a-/AOh14Ggk-AW7HbPpuPwGfd4mOddPDI2UV_apsStpfn4lsA=s64",
      "userId": "13208395926076107019"
     },
     "user_tz": -330
    },
    "id": "KeQUnFgCwP99",
    "outputId": "23ed15bd-16a8-45e7-ac9d-64d4eb10ddc1"
   },
   "outputs": [
    {
     "name": "stdout",
     "output_type": "stream",
     "text": [
      "\u001b[1m\u001b[91mSolving for the current objective we will be using python version 3.7.6\n"
     ]
    }
   ],
   "source": [
    "%matplotlib inline \n",
    "import warnings\n",
    "warnings.filterwarnings('ignore')\n",
    "import pandas as pd\n",
    "import numpy as np\n",
    "import seaborn as sns\n",
    "import os\n",
    "from matplotlib import pyplot as plt\n",
    "from scipy.stats import ttest_1samp, ttest_ind, mannwhitneyu, levene, shapiro\n",
    "from statsmodels.stats.power import ttest_power\n",
    "from statsmodels.stats.proportion import proportions_ztest\n",
    "import statsmodels.api as sm\n",
    "from   statsmodels.formula.api import ols\n",
    "from sklearn.linear_model import LogisticRegression\n",
    "from sklearn.model_selection import train_test_split\n",
    "from sklearn import metrics\n",
    "from sklearn import preprocessing\n",
    "from sklearn import model_selection\n",
    "from sklearn.naive_bayes import GaussianNB\n",
    "from sklearn.neighbors import KNeighborsClassifier\n",
    "from sklearn.tree import DecisionTreeRegressor\n",
    "from scipy.stats import zscore\n",
    "from sklearn import svm\n",
    "from platform import python_version\n",
    "from sklearn.model_selection import GridSearchCV\n",
    "from sklearn.decomposition import PCA\n",
    "import itertools\n",
    "from sklearn.linear_model import LinearRegression\n",
    "from sklearn.linear_model import Ridge\n",
    "from sklearn.linear_model import Lasso\n",
    "from nltk.stem import SnowballStemmer\n",
    "from nltk.tokenize import word_tokenize \n",
    "from nltk.corpus import stopwords\n",
    "from nltk.corpus import stopwords\n",
    "from sklearn.feature_extraction.text import CountVectorizer\n",
    "from sklearn.feature_extraction.text import TfidfTransformer\n",
    "\n",
    "import gensim\n",
    "from gensim.utils import simple_preprocess\n",
    "from gensim.parsing.preprocessing import STOPWORDS\n",
    "import gensim.corpora  as corpora\n",
    "\n",
    "from nltk.stem import WordNetLemmatizer, SnowballStemmer\n",
    "from nltk.stem.porter import *\n",
    "import nltk\n",
    "from wordcloud import WordCloud\n",
    "import glob\n",
    "\n",
    "print (color.BOLD + color.RED + \"Solving for the current objective we will be using python version \" + python_version())"
   ]
  },
  {
   "cell_type": "markdown",
   "metadata": {
    "colab_type": "text",
    "id": "uAu8W5GxwfHh"
   },
   "source": [
    "### Data Loading"
   ]
  },
  {
   "cell_type": "code",
   "execution_count": 3,
   "metadata": {
    "colab": {},
    "colab_type": "code",
    "id": "vG8TlGY6wwAN"
   },
   "outputs": [
    {
     "data": {
      "text/html": [
       "<div>\n",
       "<style scoped>\n",
       "    .dataframe tbody tr th:only-of-type {\n",
       "        vertical-align: middle;\n",
       "    }\n",
       "\n",
       "    .dataframe tbody tr th {\n",
       "        vertical-align: top;\n",
       "    }\n",
       "\n",
       "    .dataframe thead th {\n",
       "        text-align: right;\n",
       "    }\n",
       "</style>\n",
       "<table border=\"1\" class=\"dataframe\">\n",
       "  <thead>\n",
       "    <tr style=\"text-align: right;\">\n",
       "      <th></th>\n",
       "      <th>title</th>\n",
       "      <th>body</th>\n",
       "      <th>ticket_type</th>\n",
       "      <th>category</th>\n",
       "      <th>sub_category1</th>\n",
       "      <th>sub_category2</th>\n",
       "      <th>business_service</th>\n",
       "      <th>urgency</th>\n",
       "      <th>impact</th>\n",
       "      <th>body-tokenized</th>\n",
       "    </tr>\n",
       "  </thead>\n",
       "  <tbody>\n",
       "    <tr>\n",
       "      <th>0</th>\n",
       "      <td>NaN</td>\n",
       "      <td>hi since recruiter lead permission approve req...</td>\n",
       "      <td>1</td>\n",
       "      <td>4</td>\n",
       "      <td>2</td>\n",
       "      <td>21</td>\n",
       "      <td>71</td>\n",
       "      <td>3</td>\n",
       "      <td>4</td>\n",
       "      <td>['h', ' ', 'n', 'c', 'e', ' ', 'r', 'e', 'c', ...</td>\n",
       "    </tr>\n",
       "    <tr>\n",
       "      <th>1</th>\n",
       "      <td>connection with icon</td>\n",
       "      <td>icon dear please setup icon per icon engineers...</td>\n",
       "      <td>1</td>\n",
       "      <td>6</td>\n",
       "      <td>22</td>\n",
       "      <td>7</td>\n",
       "      <td>26</td>\n",
       "      <td>3</td>\n",
       "      <td>4</td>\n",
       "      <td>['c', 'n', ' ', 'e', 'r', ' ', 'p', 'l', 'e', ...</td>\n",
       "    </tr>\n",
       "    <tr>\n",
       "      <th>2</th>\n",
       "      <td>work experience user</td>\n",
       "      <td>work experience user hi work experience studen...</td>\n",
       "      <td>1</td>\n",
       "      <td>5</td>\n",
       "      <td>13</td>\n",
       "      <td>7</td>\n",
       "      <td>32</td>\n",
       "      <td>3</td>\n",
       "      <td>4</td>\n",
       "      <td>['w', 'r', 'k', ' ', 'e', 'x', 'p', 'e', 'r', ...</td>\n",
       "    </tr>\n",
       "    <tr>\n",
       "      <th>3</th>\n",
       "      <td>requesting for meeting</td>\n",
       "      <td>requesting meeting hi please help follow equip...</td>\n",
       "      <td>1</td>\n",
       "      <td>5</td>\n",
       "      <td>13</td>\n",
       "      <td>7</td>\n",
       "      <td>32</td>\n",
       "      <td>3</td>\n",
       "      <td>4</td>\n",
       "      <td>['r', 'e', 'q', 'u', 'e', 'n', 'g', ' ', 'e', ...</td>\n",
       "    </tr>\n",
       "    <tr>\n",
       "      <th>4</th>\n",
       "      <td>reset passwords for external accounts</td>\n",
       "      <td>re expire days hi ask help update passwords co...</td>\n",
       "      <td>1</td>\n",
       "      <td>4</td>\n",
       "      <td>2</td>\n",
       "      <td>76</td>\n",
       "      <td>4</td>\n",
       "      <td>3</td>\n",
       "      <td>4</td>\n",
       "      <td>['r', 'e', ' ', 'e', 'x', 'p', 'r', 'e', ' ', ...</td>\n",
       "    </tr>\n",
       "  </tbody>\n",
       "</table>\n",
       "</div>"
      ],
      "text/plain": [
       "                                   title  \\\n",
       "0                                    NaN   \n",
       "1                   connection with icon   \n",
       "2                   work experience user   \n",
       "3                 requesting for meeting   \n",
       "4  reset passwords for external accounts   \n",
       "\n",
       "                                                body  ticket_type  category  \\\n",
       "0  hi since recruiter lead permission approve req...            1         4   \n",
       "1  icon dear please setup icon per icon engineers...            1         6   \n",
       "2  work experience user hi work experience studen...            1         5   \n",
       "3  requesting meeting hi please help follow equip...            1         5   \n",
       "4  re expire days hi ask help update passwords co...            1         4   \n",
       "\n",
       "   sub_category1  sub_category2  business_service  urgency  impact  \\\n",
       "0              2             21                71        3       4   \n",
       "1             22              7                26        3       4   \n",
       "2             13              7                32        3       4   \n",
       "3             13              7                32        3       4   \n",
       "4              2             76                 4        3       4   \n",
       "\n",
       "                                      body-tokenized  \n",
       "0  ['h', ' ', 'n', 'c', 'e', ' ', 'r', 'e', 'c', ...  \n",
       "1  ['c', 'n', ' ', 'e', 'r', ' ', 'p', 'l', 'e', ...  \n",
       "2  ['w', 'r', 'k', ' ', 'e', 'x', 'p', 'e', 'r', ...  \n",
       "3  ['r', 'e', 'q', 'u', 'e', 'n', 'g', ' ', 'e', ...  \n",
       "4  ['r', 'e', ' ', 'e', 'x', 'p', 'r', 'e', ' ', ...  "
      ]
     },
     "execution_count": 3,
     "metadata": {},
     "output_type": "execute_result"
    }
   ],
   "source": [
    "data = pd.read_csv('all_ticketsnew.csv')\n",
    "data.head()"
   ]
  },
  {
   "cell_type": "markdown",
   "metadata": {},
   "source": [
    "### Create Bigram & Trigram Modes Using Gensim"
   ]
  },
  {
   "cell_type": "code",
   "execution_count": 6,
   "metadata": {},
   "outputs": [
    {
     "data": {
      "text/plain": [
       "[['hi',\n",
       "  'since',\n",
       "  'recruiter',\n",
       "  'lead',\n",
       "  'permission',\n",
       "  'approve',\n",
       "  'requisitions',\n",
       "  'makes',\n",
       "  'please',\n",
       "  'make',\n",
       "  'thanks',\n",
       "  'recruiter']]"
      ]
     },
     "execution_count": 6,
     "metadata": {},
     "output_type": "execute_result"
    }
   ],
   "source": [
    "def sent_to_words (sentences):\n",
    "    for sentence in sentences:\n",
    "        yield(gensim.utils.simple_preprocess(str(sentence),deacc=True))\n",
    "        \n",
    "data_words=list(sent_to_words(data['body']))\n",
    "data_words[:1]"
   ]
  },
  {
   "cell_type": "code",
   "execution_count": 7,
   "metadata": {},
   "outputs": [
    {
     "name": "stdout",
     "output_type": "stream",
     "text": [
      "['hi', 'since', 'recruiter', 'lead', 'permission', 'approve', 'requisitions', 'makes', 'please', 'make', 'thanks', 'recruiter']\n"
     ]
    }
   ],
   "source": [
    "bigram = gensim.models.Phrases(data_words, min_count=5, threshold=100)\n",
    "trigram = gensim.models.Phrases(bigram[data_words], threshold=100)\n",
    "\n",
    "bigram_mod = gensim.models.phrases.Phraser(bigram)\n",
    "trigram_mod = gensim.models.phrases.Phraser(trigram)\n",
    "\n",
    "print (trigram_mod[bigram_mod[data_words[0]]])"
   ]
  },
  {
   "cell_type": "code",
   "execution_count": 8,
   "metadata": {},
   "outputs": [
    {
     "name": "stderr",
     "output_type": "stream",
     "text": [
      "[nltk_data] Downloading package stopwords to C:\\Users\\Aditya\n",
      "[nltk_data]     Jain\\AppData\\Roaming\\nltk_data...\n",
      "[nltk_data]   Package stopwords is already up-to-date!\n"
     ]
    }
   ],
   "source": [
    "#Removing StopWords\n",
    "nltk.download('stopwords')\n",
    "stop_words=list(stopwords.words('english'))\n",
    "# Removing Stop Words\n",
    "stop_words=stop_words + ['also','1','2','3','4','5','still','commerce','india','challenges','e','faced','ecommerce','issues','one','far','online','use','big','industry','problem']\n",
    "\n",
    "def remove_stopwords(texts):\n",
    "    return [[word for word in simple_preprocess(str(doc)) if word not in stop_words] for doc in texts]\n",
    "\n",
    "def make_bigrams(texts):\n",
    "    return [bigram_mod[doc] for doc in texts]\n",
    "\n",
    "def make_trigrams(texts):\n",
    "    return [trigram_mod[bigram_mod[doc]] for doc in texts]\n",
    "\n",
    "def lemmitization(texts):\n",
    "    accepted_tags=['NOUN','ADJ','VERB','ADV']\n",
    "    texts_out=[]\n",
    "    for sent in texts:\n",
    "        doc = nlp(\" \".join(sent))\n",
    "        texts_out.append([token.lemma_ for token in doc if token.pos_ in accepted_tags])"
   ]
  },
  {
   "cell_type": "code",
   "execution_count": 9,
   "metadata": {},
   "outputs": [
    {
     "name": "stdout",
     "output_type": "stream",
     "text": [
      "[['hi', 'since', 'recruiter', 'lead', 'permission', 'approve', 'requisitions', 'makes', 'please', 'make', 'thanks', 'recruiter']]\n"
     ]
    }
   ],
   "source": [
    "data_words =  remove_stopwords(data_words)\n",
    "data_words_bigrams =  make_bigrams(data_words)\n",
    "\n",
    "print (data_words_bigrams[:1])"
   ]
  },
  {
   "cell_type": "code",
   "execution_count": 10,
   "metadata": {},
   "outputs": [
    {
     "name": "stdout",
     "output_type": "stream",
     "text": [
      "[[(0, 1), (1, 1), (2, 1), (3, 1), (4, 1), (5, 1), (6, 1), (7, 2), (8, 1), (9, 1), (10, 1)]]\n",
      "[[('approve', 1), ('hi', 1), ('lead', 1), ('make', 1), ('makes', 1), ('permission', 1), ('please', 1), ('recruiter', 2), ('requisitions', 1), ('since', 1), ('thanks', 1)]]\n"
     ]
    }
   ],
   "source": [
    "id2word = corpora.Dictionary(data_words)\n",
    "texts =  data_words\n",
    "corpus = [id2word.doc2bow(text) for text in texts]\n",
    "\n",
    "print (corpus[:1])\n",
    "print ([[(id2word[id],freq) for id, freq in cp] for cp in corpus[:1]])"
   ]
  },
  {
   "cell_type": "markdown",
   "metadata": {},
   "source": [
    "## Baseline LDA Model"
   ]
  },
  {
   "cell_type": "code",
   "execution_count": null,
   "metadata": {},
   "outputs": [],
   "source": [
    "lda_model = gensim.models.ldamodel.LdaModel(corpus=corpus,\n",
    "                                           id2word=id2word,\n",
    "                                           num_topics=3,\n",
    "                                           random_state=100,\n",
    "                                           chunksize=100,\n",
    "                                           passes=10,\n",
    "                                           alpha='auto',\n",
    "                                           per_word_topics=True)\n",
    "\n",
    "for topic in lda_model.print_topics():\n",
    "    print (topic)\n",
    "    print ('\\n')"
   ]
  },
  {
   "cell_type": "code",
   "execution_count": 12,
   "metadata": {},
   "outputs": [
    {
     "name": "stdout",
     "output_type": "stream",
     "text": [
      "Perpexity score is -6.964700 and Coherence score is 0.375390\n"
     ]
    }
   ],
   "source": [
    "doc_lda = lda_model[corpus]\n",
    "perpexity = lda_model.log_perplexity(corpus)\n",
    "coherence_model = gensim.models.ldamodel.CoherenceModel(model=lda_model, \n",
    "                                texts=data_words,\n",
    "                                dictionary=id2word,\n",
    "                                coherence='c_v')\n",
    "\n",
    "coherence_score = coherence_model.get_coherence()\n",
    "\n",
    "print ('Perpexity score is %f and Coherence score is %f'%(perpexity,coherence_score))"
   ]
  },
  {
   "cell_type": "markdown",
   "metadata": {},
   "source": [
    "## Find the optimal number of topics for LDA"
   ]
  },
  {
   "cell_type": "code",
   "execution_count": 13,
   "metadata": {},
   "outputs": [],
   "source": [
    "def compute_coherence_values(dictionary, corpus, texts, limit, start=2, step=3):\n",
    "    \"\"\"\n",
    "    Compute c_v coherence for various number of topics\n",
    "\n",
    "    Parameters:\n",
    "    ----------\n",
    "    dictionary : Gensim dictionary\n",
    "    corpus : Gensim corpus\n",
    "    texts : List of input texts\n",
    "    limit : Max num of topics\n",
    "\n",
    "    Returns:\n",
    "    -------\n",
    "    model_list : List of LDA topic models\n",
    "    coherence_values : Coherence values corresponding to the LDA model with respective number of topics\n",
    "    \"\"\"\n",
    "    coherence_values = []\n",
    "    model_list = []\n",
    "    for num_topics in range(start, limit, step):\n",
    "        model = gensim.models.ldamodel.LdaModel(corpus=corpus, num_topics=num_topics, id2word=id2word)\n",
    "        model_list.append(model)\n",
    "        coherencemodel = gensim.models.ldamodel.CoherenceModel(model=model, texts=texts, dictionary=dictionary, coherence='c_v')\n",
    "        coherence_values.append(coherencemodel.get_coherence())\n",
    "\n",
    "    return model_list, coherence_values"
   ]
  },
  {
   "cell_type": "code",
   "execution_count": 14,
   "metadata": {},
   "outputs": [],
   "source": [
    "model_list, coherence_values = compute_coherence_values(dictionary=id2word, \n",
    "                                                        corpus=corpus, \n",
    "                                                        texts=data_words, \n",
    "                                                        start=2, \n",
    "                                                        limit=8, \n",
    "                                                        step=1)"
   ]
  },
  {
   "cell_type": "code",
   "execution_count": 15,
   "metadata": {},
   "outputs": [
    {
     "data": {
      "image/png": "[encoded data removed]",
      "text/plain": [
       "<Figure size 432x288 with 1 Axes>"
      ]
     },
     "metadata": {
      "needs_background": "light"
     },
     "output_type": "display_data"
    }
   ],
   "source": [
    "# Show graph\n",
    "limit=8; start=2; step=1;\n",
    "x = range(start, limit, step)\n",
    "plt.plot(x, coherence_values)\n",
    "plt.xlabel(\"Num Topics\")\n",
    "plt.ylabel(\"Coherence score\")\n",
    "plt.legend((\"coherence_values\"), loc='best')\n",
    "plt.show()"
   ]
  },
  {
   "cell_type": "code",
   "execution_count": 16,
   "metadata": {},
   "outputs": [
    {
     "name": "stdout",
     "output_type": "stream",
     "text": [
      "Num Topics = 2  has Coherence Value of 0.4009\n",
      "Num Topics = 3  has Coherence Value of 0.3771\n",
      "Num Topics = 4  has Coherence Value of 0.4483\n",
      "Num Topics = 5  has Coherence Value of 0.4362\n",
      "Num Topics = 6  has Coherence Value of 0.4142\n",
      "Num Topics = 7  has Coherence Value of 0.4126\n"
     ]
    }
   ],
   "source": [
    "# Print the coherence scores\n",
    "for m, cv in zip(x, coherence_values):\n",
    "    print(\"Num Topics =\", m, \" has Coherence Value of\", round(cv, 4))"
   ]
  },
  {
   "cell_type": "code",
   "execution_count": 17,
   "metadata": {},
   "outputs": [
    {
     "name": "stdout",
     "output_type": "stream",
     "text": [
      "(0, '0.026*\"internet\" + 0.021*\"population\" + 0.015*\"awareness\" + 0.010*\"shopping\" + 0.010*\"aware\" + 0.009*\"major\" + 0.008*\"indian\" + 0.008*\"quite\"')\n",
      "\n",
      "\n",
      "(1, '0.011*\"fear\" + 0.010*\"card\" + 0.009*\"net\" + 0.009*\"businesses\" + 0.008*\"platforms\" + 0.008*\"many\" + 0.008*\"overcome\" + 0.008*\"order\"')\n",
      "\n",
      "\n",
      "(2, '0.019*\"security\" + 0.015*\"small\" + 0.015*\"business\" + 0.014*\"internet\" + 0.013*\"product\" + 0.010*\"software\" + 0.010*\"indian\" + 0.010*\"products\"')\n",
      "\n",
      "\n",
      "(3, '0.010*\"businesses\" + 0.009*\"advertisements\" + 0.009*\"computer\" + 0.009*\"virus\" + 0.007*\"many\" + 0.007*\"phones\" + 0.007*\"micro\" + 0.007*\"quite\"')\n",
      "\n",
      "\n",
      "(4, '0.014*\"delivery\" + 0.011*\"per\" + 0.010*\"business\" + 0.010*\"low\" + 0.010*\"internet\" + 0.009*\"country\" + 0.008*\"cash\" + 0.008*\"product\"')\n",
      "\n",
      "\n",
      "(5, '0.013*\"indian\" + 0.009*\"another\" + 0.008*\"card\" + 0.008*\"fear\" + 0.008*\"market\" + 0.008*\"new\" + 0.008*\"tax\" + 0.007*\"bill\"')\n",
      "\n",
      "\n",
      "(6, '0.015*\"business\" + 0.010*\"consumer\" + 0.009*\"product\" + 0.008*\"like\" + 0.007*\"products\" + 0.007*\"indian\" + 0.007*\"customers\" + 0.007*\"market\"')\n",
      "\n",
      "\n"
     ]
    }
   ],
   "source": [
    "# Select the model and print the topics\n",
    "optimal_model = model_list[5]\n",
    "model_topics = optimal_model.show_topics(formatted=False)\n",
    "\n",
    "for topic in optimal_model.print_topics(num_words=8):\n",
    "    print (topic)\n",
    "    print ('\\n')"
   ]
  },
  {
   "cell_type": "markdown",
   "metadata": {},
   "source": [
    "## Finding the dominant topic in each sentence "
   ]
  },
  {
   "cell_type": "code",
   "execution_count": 18,
   "metadata": {},
   "outputs": [
    {
     "data": {
      "text/html": [
       "<div>\n",
       "<style scoped>\n",
       "    .dataframe tbody tr th:only-of-type {\n",
       "        vertical-align: middle;\n",
       "    }\n",
       "\n",
       "    .dataframe tbody tr th {\n",
       "        vertical-align: top;\n",
       "    }\n",
       "\n",
       "    .dataframe thead th {\n",
       "        text-align: right;\n",
       "    }\n",
       "</style>\n",
       "<table border=\"1\" class=\"dataframe\">\n",
       "  <thead>\n",
       "    <tr style=\"text-align: right;\">\n",
       "      <th></th>\n",
       "      <th>Document_No</th>\n",
       "      <th>Dominant_Topic</th>\n",
       "      <th>Topic_Perc_Contrib</th>\n",
       "      <th>Keywords</th>\n",
       "      <th>Text</th>\n",
       "    </tr>\n",
       "  </thead>\n",
       "  <tbody>\n",
       "    <tr>\n",
       "      <th>0</th>\n",
       "      <td>0</td>\n",
       "      <td>1.0</td>\n",
       "      <td>0.8569</td>\n",
       "      <td>fear, card, net, businesses, platforms, many, ...</td>\n",
       "      <td>[digital, presence, customers, cannot, ignore]</td>\n",
       "    </tr>\n",
       "    <tr>\n",
       "      <th>1</th>\n",
       "      <td>1</td>\n",
       "      <td>0.0</td>\n",
       "      <td>0.1429</td>\n",
       "      <td>internet, population, awareness, shopping, awa...</td>\n",
       "      <td>[]</td>\n",
       "    </tr>\n",
       "    <tr>\n",
       "      <th>2</th>\n",
       "      <td>2</td>\n",
       "      <td>3.0</td>\n",
       "      <td>0.7165</td>\n",
       "      <td>businesses, advertisements, computer, virus, m...</td>\n",
       "      <td>[rising, booming, rate, invasion, highly, soph...</td>\n",
       "    </tr>\n",
       "    <tr>\n",
       "      <th>3</th>\n",
       "      <td>3</td>\n",
       "      <td>2.0</td>\n",
       "      <td>0.9592</td>\n",
       "      <td>security, small, business, internet, product, ...</td>\n",
       "      <td>[among, factors, bother, shoppers, safety, sec...</td>\n",
       "    </tr>\n",
       "    <tr>\n",
       "      <th>4</th>\n",
       "      <td>4</td>\n",
       "      <td>0.0</td>\n",
       "      <td>0.1429</td>\n",
       "      <td>internet, population, awareness, shopping, awa...</td>\n",
       "      <td>[]</td>\n",
       "    </tr>\n",
       "    <tr>\n",
       "      <th>5</th>\n",
       "      <td>5</td>\n",
       "      <td>0.0</td>\n",
       "      <td>0.7139</td>\n",
       "      <td>internet, population, awareness, shopping, awa...</td>\n",
       "      <td>[lack, awareness]</td>\n",
       "    </tr>\n",
       "    <tr>\n",
       "      <th>6</th>\n",
       "      <td>6</td>\n",
       "      <td>0.0</td>\n",
       "      <td>0.9774</td>\n",
       "      <td>internet, population, awareness, shopping, awa...</td>\n",
       "      <td>[comes, ratio, people, awareness, internet, sh...</td>\n",
       "    </tr>\n",
       "    <tr>\n",
       "      <th>7</th>\n",
       "      <td>7</td>\n",
       "      <td>0.0</td>\n",
       "      <td>0.8283</td>\n",
       "      <td>internet, population, awareness, shopping, awa...</td>\n",
       "      <td>[inadequate, plastic, money, holders]</td>\n",
       "    </tr>\n",
       "    <tr>\n",
       "      <th>8</th>\n",
       "      <td>8</td>\n",
       "      <td>0.0</td>\n",
       "      <td>0.9747</td>\n",
       "      <td>internet, population, awareness, shopping, awa...</td>\n",
       "      <td>[major, platforms, require, debit, card, credi...</td>\n",
       "    </tr>\n",
       "    <tr>\n",
       "      <th>9</th>\n",
       "      <td>9</td>\n",
       "      <td>4.0</td>\n",
       "      <td>0.7140</td>\n",
       "      <td>delivery, per, business, low, internet, countr...</td>\n",
       "      <td>[cash, delivery]</td>\n",
       "    </tr>\n",
       "  </tbody>\n",
       "</table>\n",
       "</div>"
      ],
      "text/plain": [
       "   Document_No  Dominant_Topic  Topic_Perc_Contrib  \\\n",
       "0            0             1.0              0.8569   \n",
       "1            1             0.0              0.1429   \n",
       "2            2             3.0              0.7165   \n",
       "3            3             2.0              0.9592   \n",
       "4            4             0.0              0.1429   \n",
       "5            5             0.0              0.7139   \n",
       "6            6             0.0              0.9774   \n",
       "7            7             0.0              0.8283   \n",
       "8            8             0.0              0.9747   \n",
       "9            9             4.0              0.7140   \n",
       "\n",
       "                                            Keywords  \\\n",
       "0  fear, card, net, businesses, platforms, many, ...   \n",
       "1  internet, population, awareness, shopping, awa...   \n",
       "2  businesses, advertisements, computer, virus, m...   \n",
       "3  security, small, business, internet, product, ...   \n",
       "4  internet, population, awareness, shopping, awa...   \n",
       "5  internet, population, awareness, shopping, awa...   \n",
       "6  internet, population, awareness, shopping, awa...   \n",
       "7  internet, population, awareness, shopping, awa...   \n",
       "8  internet, population, awareness, shopping, awa...   \n",
       "9  delivery, per, business, low, internet, countr...   \n",
       "\n",
       "                                                Text  \n",
       "0     [digital, presence, customers, cannot, ignore]  \n",
       "1                                                 []  \n",
       "2  [rising, booming, rate, invasion, highly, soph...  \n",
       "3  [among, factors, bother, shoppers, safety, sec...  \n",
       "4                                                 []  \n",
       "5                                  [lack, awareness]  \n",
       "6  [comes, ratio, people, awareness, internet, sh...  \n",
       "7              [inadequate, plastic, money, holders]  \n",
       "8  [major, platforms, require, debit, card, credi...  \n",
       "9                                   [cash, delivery]  "
      ]
     },
     "execution_count": 18,
     "metadata": {},
     "output_type": "execute_result"
    }
   ],
   "source": [
    "def format_topics_sentences(ldamodel=lda_model, corpus=corpus, texts=data):\n",
    "    # Init output\n",
    "    sent_topics_df = pd.DataFrame()\n",
    "\n",
    "    # Get main topic in each document\n",
    "    for i, row in enumerate(ldamodel[corpus]):\n",
    "        row = sorted(row, key=lambda x: (x[1]), reverse=True)\n",
    "        # Get the Dominant topic, Perc Contribution and Keywords for each document\n",
    "        for j, (topic_num, prop_topic) in enumerate(row):\n",
    "            if j == 0:  # => dominant topic\n",
    "                wp = ldamodel.show_topic(topic_num)\n",
    "                topic_keywords = \", \".join([word for word, prop in wp])\n",
    "                sent_topics_df = sent_topics_df.append(pd.Series([int(topic_num), round(prop_topic,4), topic_keywords]), ignore_index=True)\n",
    "            else:\n",
    "                break\n",
    "    sent_topics_df.columns = ['Dominant_Topic', 'Perc_Contribution', 'Topic_Keywords']\n",
    "\n",
    "    # Add original text to the end of the output\n",
    "    contents = pd.Series(data_words)\n",
    "    sent_topics_df = pd.concat([sent_topics_df, contents], axis=1)\n",
    "    return(sent_topics_df)\n",
    "\n",
    "\n",
    "df_topic_sents_keywords = format_topics_sentences(ldamodel=optimal_model, corpus=corpus, texts=data)\n",
    "\n",
    "# Format\n",
    "df_dominant_topic = df_topic_sents_keywords.reset_index()\n",
    "df_dominant_topic.columns = ['Document_No', 'Dominant_Topic', 'Topic_Perc_Contrib', 'Keywords', 'Text']\n",
    "\n",
    "# Show\n",
    "df_dominant_topic.head(10)"
   ]
  },
  {
   "cell_type": "markdown",
   "metadata": {},
   "source": [
    "## Find the most representative document for each topic"
   ]
  },
  {
   "cell_type": "code",
   "execution_count": 19,
   "metadata": {},
   "outputs": [
    {
     "data": {
      "text/html": [
       "<div>\n",
       "<style scoped>\n",
       "    .dataframe tbody tr th:only-of-type {\n",
       "        vertical-align: middle;\n",
       "    }\n",
       "\n",
       "    .dataframe tbody tr th {\n",
       "        vertical-align: top;\n",
       "    }\n",
       "\n",
       "    .dataframe thead th {\n",
       "        text-align: right;\n",
       "    }\n",
       "</style>\n",
       "<table border=\"1\" class=\"dataframe\">\n",
       "  <thead>\n",
       "    <tr style=\"text-align: right;\">\n",
       "      <th></th>\n",
       "      <th>Topic_Num</th>\n",
       "      <th>Topic_Perc_Contrib</th>\n",
       "      <th>Keywords</th>\n",
       "      <th>Text</th>\n",
       "    </tr>\n",
       "  </thead>\n",
       "  <tbody>\n",
       "    <tr>\n",
       "      <th>0</th>\n",
       "      <td>0.0</td>\n",
       "      <td>0.9774</td>\n",
       "      <td>internet, population, awareness, shopping, awa...</td>\n",
       "      <td>[comes, ratio, people, awareness, internet, sh...</td>\n",
       "    </tr>\n",
       "    <tr>\n",
       "      <th>1</th>\n",
       "      <td>1.0</td>\n",
       "      <td>0.9762</td>\n",
       "      <td>fear, card, net, businesses, platforms, many, ...</td>\n",
       "      <td>[onset, internet, wave, people, nowadays, turn...</td>\n",
       "    </tr>\n",
       "    <tr>\n",
       "      <th>2</th>\n",
       "      <td>2.0</td>\n",
       "      <td>0.9740</td>\n",
       "      <td>security, small, business, internet, product, ...</td>\n",
       "      <td>[giants, like, amazon, ebay, flipkart, better,...</td>\n",
       "    </tr>\n",
       "    <tr>\n",
       "      <th>3</th>\n",
       "      <td>3.0</td>\n",
       "      <td>0.9828</td>\n",
       "      <td>businesses, advertisements, computer, virus, m...</td>\n",
       "      <td>[computer, virus, formidable, execution, trans...</td>\n",
       "    </tr>\n",
       "    <tr>\n",
       "      <th>4</th>\n",
       "      <td>4.0</td>\n",
       "      <td>0.9762</td>\n",
       "      <td>delivery, per, business, low, internet, countr...</td>\n",
       "      <td>[internet, backbone, unfortunately, internet, ...</td>\n",
       "    </tr>\n",
       "  </tbody>\n",
       "</table>\n",
       "</div>"
      ],
      "text/plain": [
       "   Topic_Num  Topic_Perc_Contrib  \\\n",
       "0        0.0              0.9774   \n",
       "1        1.0              0.9762   \n",
       "2        2.0              0.9740   \n",
       "3        3.0              0.9828   \n",
       "4        4.0              0.9762   \n",
       "\n",
       "                                            Keywords  \\\n",
       "0  internet, population, awareness, shopping, awa...   \n",
       "1  fear, card, net, businesses, platforms, many, ...   \n",
       "2  security, small, business, internet, product, ...   \n",
       "3  businesses, advertisements, computer, virus, m...   \n",
       "4  delivery, per, business, low, internet, countr...   \n",
       "\n",
       "                                                Text  \n",
       "0  [comes, ratio, people, awareness, internet, sh...  \n",
       "1  [onset, internet, wave, people, nowadays, turn...  \n",
       "2  [giants, like, amazon, ebay, flipkart, better,...  \n",
       "3  [computer, virus, formidable, execution, trans...  \n",
       "4  [internet, backbone, unfortunately, internet, ...  "
      ]
     },
     "execution_count": 19,
     "metadata": {},
     "output_type": "execute_result"
    }
   ],
   "source": [
    "# Group top 5 sentences under each topic\n",
    "sent_topics_sorteddf_mallet = pd.DataFrame()\n",
    "\n",
    "sent_topics_outdf_grpd = df_topic_sents_keywords.groupby('Dominant_Topic')\n",
    "\n",
    "for i, grp in sent_topics_outdf_grpd:\n",
    "    sent_topics_sorteddf_mallet = pd.concat([sent_topics_sorteddf_mallet, \n",
    "                                             grp.sort_values(['Perc_Contribution'], ascending=[0]).head(1)], \n",
    "                                            axis=0)\n",
    "\n",
    "# Reset Index    \n",
    "sent_topics_sorteddf_mallet.reset_index(drop=True, inplace=True)\n",
    "\n",
    "# Format\n",
    "sent_topics_sorteddf_mallet.columns = ['Topic_Num', \"Topic_Perc_Contrib\", \"Keywords\", \"Text\"]\n",
    "\n",
    "#The tabular output above actually has 20 rows, one each for a topic. It has the topic number, \n",
    "#the keywords, and the most representative document. The Perc_Contribution column is nothing \n",
    "#but the percentage contribution of the topic in the given document.\n",
    "sent_topics_sorteddf_mallet.head()"
   ]
  },
  {
   "cell_type": "markdown",
   "metadata": {},
   "source": [
    "## Topic distribution across documents"
   ]
  },
  {
   "cell_type": "code",
   "execution_count": 20,
   "metadata": {},
   "outputs": [
    {
     "data": {
      "text/html": [
       "<div>\n",
       "<style scoped>\n",
       "    .dataframe tbody tr th:only-of-type {\n",
       "        vertical-align: middle;\n",
       "    }\n",
       "\n",
       "    .dataframe tbody tr th {\n",
       "        vertical-align: top;\n",
       "    }\n",
       "\n",
       "    .dataframe thead th {\n",
       "        text-align: right;\n",
       "    }\n",
       "</style>\n",
       "<table border=\"1\" class=\"dataframe\">\n",
       "  <thead>\n",
       "    <tr style=\"text-align: right;\">\n",
       "      <th></th>\n",
       "      <th>Dominant_Topic</th>\n",
       "      <th>Topic_Keywords</th>\n",
       "      <th>Num_Documents</th>\n",
       "      <th>Perc_Documents</th>\n",
       "    </tr>\n",
       "  </thead>\n",
       "  <tbody>\n",
       "    <tr>\n",
       "      <th>0.0</th>\n",
       "      <td>1.0</td>\n",
       "      <td>fear, card, net, businesses, platforms, many, ...</td>\n",
       "      <td>39.0</td>\n",
       "      <td>0.2378</td>\n",
       "    </tr>\n",
       "    <tr>\n",
       "      <th>1.0</th>\n",
       "      <td>0.0</td>\n",
       "      <td>internet, population, awareness, shopping, awa...</td>\n",
       "      <td>21.0</td>\n",
       "      <td>0.1280</td>\n",
       "    </tr>\n",
       "    <tr>\n",
       "      <th>2.0</th>\n",
       "      <td>3.0</td>\n",
       "      <td>businesses, advertisements, computer, virus, m...</td>\n",
       "      <td>25.0</td>\n",
       "      <td>0.1524</td>\n",
       "    </tr>\n",
       "    <tr>\n",
       "      <th>3.0</th>\n",
       "      <td>2.0</td>\n",
       "      <td>security, small, business, internet, product, ...</td>\n",
       "      <td>21.0</td>\n",
       "      <td>0.1280</td>\n",
       "    </tr>\n",
       "    <tr>\n",
       "      <th>4.0</th>\n",
       "      <td>0.0</td>\n",
       "      <td>internet, population, awareness, shopping, awa...</td>\n",
       "      <td>23.0</td>\n",
       "      <td>0.1402</td>\n",
       "    </tr>\n",
       "    <tr>\n",
       "      <th>...</th>\n",
       "      <td>...</td>\n",
       "      <td>...</td>\n",
       "      <td>...</td>\n",
       "      <td>...</td>\n",
       "    </tr>\n",
       "    <tr>\n",
       "      <th>159.0</th>\n",
       "      <td>3.0</td>\n",
       "      <td>businesses, advertisements, computer, virus, m...</td>\n",
       "      <td>NaN</td>\n",
       "      <td>NaN</td>\n",
       "    </tr>\n",
       "    <tr>\n",
       "      <th>160.0</th>\n",
       "      <td>1.0</td>\n",
       "      <td>fear, card, net, businesses, platforms, many, ...</td>\n",
       "      <td>NaN</td>\n",
       "      <td>NaN</td>\n",
       "    </tr>\n",
       "    <tr>\n",
       "      <th>161.0</th>\n",
       "      <td>3.0</td>\n",
       "      <td>businesses, advertisements, computer, virus, m...</td>\n",
       "      <td>NaN</td>\n",
       "      <td>NaN</td>\n",
       "    </tr>\n",
       "    <tr>\n",
       "      <th>162.0</th>\n",
       "      <td>4.0</td>\n",
       "      <td>delivery, per, business, low, internet, countr...</td>\n",
       "      <td>NaN</td>\n",
       "      <td>NaN</td>\n",
       "    </tr>\n",
       "    <tr>\n",
       "      <th>163.0</th>\n",
       "      <td>6.0</td>\n",
       "      <td>business, consumer, product, like, products, i...</td>\n",
       "      <td>NaN</td>\n",
       "      <td>NaN</td>\n",
       "    </tr>\n",
       "  </tbody>\n",
       "</table>\n",
       "<p>164 rows × 4 columns</p>\n",
       "</div>"
      ],
      "text/plain": [
       "       Dominant_Topic                                     Topic_Keywords  \\\n",
       "0.0               1.0  fear, card, net, businesses, platforms, many, ...   \n",
       "1.0               0.0  internet, population, awareness, shopping, awa...   \n",
       "2.0               3.0  businesses, advertisements, computer, virus, m...   \n",
       "3.0               2.0  security, small, business, internet, product, ...   \n",
       "4.0               0.0  internet, population, awareness, shopping, awa...   \n",
       "...               ...                                                ...   \n",
       "159.0             3.0  businesses, advertisements, computer, virus, m...   \n",
       "160.0             1.0  fear, card, net, businesses, platforms, many, ...   \n",
       "161.0             3.0  businesses, advertisements, computer, virus, m...   \n",
       "162.0             4.0  delivery, per, business, low, internet, countr...   \n",
       "163.0             6.0  business, consumer, product, like, products, i...   \n",
       "\n",
       "       Num_Documents  Perc_Documents  \n",
       "0.0             39.0          0.2378  \n",
       "1.0             21.0          0.1280  \n",
       "2.0             25.0          0.1524  \n",
       "3.0             21.0          0.1280  \n",
       "4.0             23.0          0.1402  \n",
       "...              ...             ...  \n",
       "159.0            NaN             NaN  \n",
       "160.0            NaN             NaN  \n",
       "161.0            NaN             NaN  \n",
       "162.0            NaN             NaN  \n",
       "163.0            NaN             NaN  \n",
       "\n",
       "[164 rows x 4 columns]"
      ]
     },
     "execution_count": 20,
     "metadata": {},
     "output_type": "execute_result"
    }
   ],
   "source": [
    "# Number of Documents for Each Topic\n",
    "topic_counts = df_topic_sents_keywords['Dominant_Topic'].value_counts()\n",
    "\n",
    "# Percentage of Documents for Each Topic\n",
    "topic_contribution = round(topic_counts/topic_counts.sum(), 4)\n",
    "\n",
    "# Topic Number and Keywords\n",
    "topic_num_keywords = df_topic_sents_keywords[['Dominant_Topic', 'Topic_Keywords']]\n",
    "\n",
    "# Concatenate Column wise\n",
    "df_dominant_topics = pd.concat([topic_num_keywords, topic_counts, topic_contribution], axis=1)\n",
    "\n",
    "# Change Column names\n",
    "df_dominant_topics.columns = ['Dominant_Topic', 'Topic_Keywords', 'Num_Documents', 'Perc_Documents']\n",
    "\n",
    "# Show\n",
    "df_dominant_topics"
   ]
  },
  {
   "cell_type": "code",
   "execution_count": null,
   "metadata": {},
   "outputs": [],
   "source": []
  }
 ],
 "metadata": {
  "colab": {
   "authorship_tag": "ABX9TyM0Zc2kBcQUrS/1SwHJ7iyx",
   "collapsed_sections": [],
   "name": "Capstone Project (Machine Learning Models)- Automatic Ticket Assignment.ipynb",
   "provenance": []
  },
  "kernelspec": {
   "display_name": "Python 3",
   "language": "python",
   "name": "python3"
  },
  "language_info": {
   "codemirror_mode": {
    "name": "ipython",
    "version": 3
   },
   "file_extension": ".py",
   "mimetype": "text/x-python",
   "name": "python",
   "nbconvert_exporter": "python",
   "pygments_lexer": "ipython3",
   "version": "3.7.6"
  }
 },
 "nbformat": 4,
 "nbformat_minor": 1
}
