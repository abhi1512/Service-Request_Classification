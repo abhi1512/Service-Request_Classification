{
 "cells": [
  {
   "cell_type": "code",
   "execution_count": 1,
   "metadata": {
    "colab": {
     "base_uri": "https://localhost:8080/"
    },
    "id": "w4mTZQQqwaT1",
    "outputId": "93cee57f-9305-45ca-9926-2fc81d31f6a7",
    "scrolled": true
   },
   "outputs": [
    {
     "name": "stderr",
     "output_type": "stream",
     "text": [
      "/usr/local/lib/python3.6/dist-packages/nltk/twitter/__init__.py:20: UserWarning: The twython library has not been installed. Some functionality from the twitter package will not be available.\n",
      "  warnings.warn(\"The twython library has not been installed. \"\n"
     ]
    },
    {
     "name": "stdout",
     "output_type": "stream",
     "text": [
      "[nltk_data] Downloading package stopwords to /root/nltk_data...\n",
      "[nltk_data]   Package stopwords is already up-to-date!\n",
      "[nltk_data] Downloading package wordnet to /root/nltk_data...\n",
      "[nltk_data]   Package wordnet is already up-to-date!\n",
      "[nltk_data] Downloading package vader_lexicon to /root/nltk_data...\n",
      "[nltk_data]   Package vader_lexicon is already up-to-date!\n",
      "[nltk_data] Downloading package averaged_perceptron_tagger to\n",
      "[nltk_data]     /root/nltk_data...\n",
      "[nltk_data]   Package averaged_perceptron_tagger is already up-to-\n",
      "[nltk_data]       date!\n",
      "[nltk_data] Downloading package movie_reviews to /root/nltk_data...\n",
      "[nltk_data]   Package movie_reviews is already up-to-date!\n",
      "[nltk_data] Downloading package punkt to /root/nltk_data...\n",
      "[nltk_data]   Package punkt is already up-to-date!\n",
      "[nltk_data] Downloading package conll2000 to /root/nltk_data...\n",
      "[nltk_data]   Package conll2000 is already up-to-date!\n",
      "[nltk_data] Downloading package brown to /root/nltk_data...\n",
      "[nltk_data]   Package brown is already up-to-date!\n"
     ]
    }
   ],
   "source": [
    "from __future__ import print_function\n",
    "import os\n",
    "try:\n",
    "    from urllib.request import urlretrieve\n",
    "except ImportError:\n",
    "    from urllib import urlretrieve\n",
    "\n",
    "import numpy as np \n",
    "import pandas as pd \n",
    "import matplotlib.pyplot as plt\n",
    "import seaborn as sns\n",
    "import re\n",
    "import time\n",
    "import string\n",
    "import warnings\n",
    "\n",
    "# for all NLP related operations on text\n",
    "import nltk\n",
    "from nltk.corpus import stopwords\n",
    "from nltk.tokenize import sent_tokenize, word_tokenize\n",
    "from nltk.sentiment.vader import SentimentIntensityAnalyzer\n",
    "from nltk.stem import WordNetLemmatizer\n",
    "from nltk.stem.porter import *\n",
    "from nltk.classify import NaiveBayesClassifier\n",
    "#from wordcloud import WordCloud\n",
    "\n",
    "from sklearn.feature_extraction.text import CountVectorizer, TfidfVectorizer\n",
    "from sklearn.linear_model import LogisticRegression\n",
    "from sklearn.model_selection import train_test_split\n",
    "from sklearn.metrics import f1_score, confusion_matrix, accuracy_score\n",
    "from sklearn.svm import SVC\n",
    "from sklearn.naive_bayes import GaussianNB\n",
    "from sklearn import preprocessing\n",
    "\n",
    "import datetime as dt\n",
    "\n",
    "\n",
    "# To identify the sentiment of text\n",
    "#from textblob import TextBlob\n",
    "#from textblob.sentiments import NaiveBayesAnalyzer\n",
    "#from textblob.np_extractors import ConllExtractor\n",
    "\n",
    "# ignoring all the warnings\n",
    "warnings.filterwarnings(\"ignore\", category=DeprecationWarning)\n",
    "\n",
    "# downloading stopwords corpus\n",
    "nltk.download('stopwords')\n",
    "nltk.download('wordnet')\n",
    "nltk.download('vader_lexicon')\n",
    "nltk.download('averaged_perceptron_tagger')\n",
    "nltk.download('movie_reviews')\n",
    "nltk.download('punkt')\n",
    "nltk.download('conll2000')\n",
    "nltk.download('brown')\n",
    "stopwords = set(stopwords.words(\"english\"))\n",
    "\n",
    "# for showing all the plots inline\n",
    "%matplotlib inline\n"
   ]
  },
  {
   "cell_type": "code",
   "execution_count": 2,
   "metadata": {
    "colab": {
     "base_uri": "https://localhost:8080/"
    },
    "id": "SuzaeD1cwaT2",
    "outputId": "990ff0af-f275-4d71-adf7-a7951d0ab37f"
   },
   "outputs": [
    {
     "data": {
      "text/plain": [
       "0        hi since recruiter lead permission approve req...\n",
       "1        icon dear please setup icon per icon engineers...\n",
       "2        work experience user hi work experience studen...\n",
       "3        requesting meeting hi please help follow equip...\n",
       "4        re expire days hi ask help update passwords co...\n",
       "                               ...                        \n",
       "48544    sent tuesday july re git space for hi got righ...\n",
       "48545    sent july error hi guys can you help out with ...\n",
       "48546    sent tuesday july connection issues hello have...\n",
       "48547    sent tuesday july error hello guys have receiv...\n",
       "48548    hello please be advised we running out extensi...\n",
       "Name: body, Length: 48549, dtype: object"
      ]
     },
     "execution_count": 2,
     "metadata": {
      "tags": []
     },
     "output_type": "execute_result"
    }
   ],
   "source": [
    "all_ticket_df=pd.read_csv('all_ticketsnew.csv', encoding='utf-8')\n",
    "\n",
    "labelData = all_ticket_df['ticket_type']\n",
    "data = all_ticket_df['body']\n",
    "data"
   ]
  },
  {
   "cell_type": "code",
   "execution_count": 3,
   "metadata": {
    "id": "01UtQUGCxaS5"
   },
   "outputs": [],
   "source": [
    "import tensorflow as tf\n"
   ]
  },
  {
   "cell_type": "code",
   "execution_count": 4,
   "metadata": {
    "colab": {
     "base_uri": "https://localhost:8080/"
    },
    "id": "VTS-4222waT3",
    "outputId": "0bfbad0e-98e8-4958-af17-c6ee2cb245f6"
   },
   "outputs": [
    {
     "name": "stdout",
     "output_type": "stream",
     "text": [
      "Size of training data is- (38839,)\n",
      "Size of training labels is- 38839\n",
      "Size of test data is- (9710,)\n",
      "Size of test labels is- 9710\n"
     ]
    }
   ],
   "source": [
    "from numpy import array\n",
    "from tensorflow.keras.preprocessing.text import one_hot\n",
    "from tensorflow.keras.preprocessing.sequence import pad_sequences\n",
    "from tensorflow.keras.models import Sequential\n",
    "from tensorflow.keras.layers import Dense\n",
    "from tensorflow.keras.layers import Flatten\n",
    "from tensorflow.keras.layers import Embedding\n",
    "\n",
    "# Split dataset into training and testing data\n",
    "train_data, test_data, train_labels, test_labels = train_test_split(\n",
    "        data, labelData, test_size=0.2\n",
    "    )  # split data to train/test sets with 80:20 ratio\n",
    "\n",
    "print ('Size of training data is-',train_data.shape)\n",
    "print ('Size of training labels is-',len(train_labels))\n",
    "print ('Size of test data is-',test_data.shape)\n",
    "print ('Size of test labels is-',len(test_labels))"
   ]
  },
  {
   "cell_type": "code",
   "execution_count": 5,
   "metadata": {
    "colab": {
     "base_uri": "https://localhost:8080/"
    },
    "id": "58v4dgPnwaT3",
    "outputId": "5888c3b3-f658-42e4-9200-2fcc6c92f2c4"
   },
   "outputs": [
    {
     "name": "stdout",
     "output_type": "stream",
     "text": [
      "Size of training data is- 38839\n",
      "Size of training labels is- 38839\n",
      "Size of test data is- 9710\n",
      "Size of test labels is- 9710\n"
     ]
    }
   ],
   "source": [
    "# load the whole embedding into memory\n",
    "from tensorflow.keras.preprocessing.text import Tokenizer\n",
    "tokenizer = Tokenizer(num_words=100000)\n",
    "tokenizer.fit_on_texts(train_data)\n",
    "X_train = tokenizer.texts_to_sequences(train_data)\n",
    "X_test = tokenizer.texts_to_sequences(test_data)\n",
    "vocab_length = len(tokenizer.word_index) + 1\n",
    "\n",
    "print ('Size of training data is-',len(X_train))\n",
    "print ('Size of training labels is-',len(train_labels))\n",
    "print ('Size of test data is-',len(X_test))\n",
    "print ('Size of test labels is-',len(test_labels))"
   ]
  },
  {
   "cell_type": "code",
   "execution_count": 6,
   "metadata": {
    "id": "TpEHR7z5waT3"
   },
   "outputs": [],
   "source": [
    "#from nltk.tokenize import word_tokenize\n",
    "#corpus = all_ticket_df['body'].to_list()\n",
    "#all_words = []\n",
    "#for sent in corpus:\n",
    "#    tokenize_word = word_tokenize(sent)\n",
    "#    for word in tokenize_word:\n",
    "#        all_words.append(word)\n",
    "\n",
    "#unique_words = set(all_words)\n",
    "#print(len(unique_words))\n",
    "#vocab_length =len(unique_words)"
   ]
  },
  {
   "cell_type": "code",
   "execution_count": 7,
   "metadata": {
    "colab": {
     "base_uri": "https://localhost:8080/"
    },
    "id": "o6uPAjkhwaT3",
    "outputId": "fd763124-f4d8-4417-89fc-4d3ed57e61c8"
   },
   "outputs": [
    {
     "name": "stdout",
     "output_type": "stream",
     "text": [
      "980\n"
     ]
    }
   ],
   "source": [
    "corpus = all_ticket_df['body'].to_list()\n",
    "word_count = lambda sentence: len(word_tokenize(sentence))\n",
    "longest_sentence = max(corpus, key=word_count)\n",
    "length_long_sentence = len(word_tokenize(longest_sentence))\n",
    "\n",
    "print(length_long_sentence)"
   ]
  },
  {
   "cell_type": "code",
   "execution_count": 8,
   "metadata": {
    "colab": {
     "base_uri": "https://localhost:8080/"
    },
    "id": "3RwNxLVKwaT4",
    "outputId": "282c79ce-9fde-4a5b-f2bf-7043690c17ac"
   },
   "outputs": [
    {
     "name": "stdout",
     "output_type": "stream",
     "text": [
      "Size of training data is- 38839\n",
      "Size of training labels is- 38839\n",
      "Size of test data is- 9710\n",
      "Size of test labels is- 9710\n"
     ]
    }
   ],
   "source": [
    "#padded_sentences = pad_sequences(embedded_sentences, length_long_sentence, padding='post')\n",
    "X_train_pedd = pad_sequences(X_train, length_long_sentence, padding='post')\n",
    "X_test_pedd = pad_sequences(X_test, length_long_sentence, padding='post')\n",
    "\n",
    "print ('Size of training data is-',len(X_train_pedd))\n",
    "print ('Size of training labels is-',len(train_labels))\n",
    "print ('Size of test data is-',len(X_test_pedd))\n",
    "print ('Size of test labels is-',len(test_labels))"
   ]
  },
  {
   "cell_type": "code",
   "execution_count": 9,
   "metadata": {
    "id": "ndIWUaIJyaET"
   },
   "outputs": [],
   "source": [
    "import matplotlib.pyplot as plt\n",
    "plt.style.use('ggplot')\n",
    "\n",
    "def plot_history(history):\n",
    "        \n",
    "    acc = history.history['accuracy']\n",
    "    val_acc = history.history['val_accuracy']\n",
    "    loss = history.history['loss']\n",
    "    val_loss = history.history['val_loss']\n",
    "    \n",
    "    x = range(1, len(acc) + 1)\n",
    "\n",
    "    plt.figure(figsize=(12, 5))\n",
    "    plt.subplot(1, 2, 1)\n",
    "    plt.plot(x, acc, 'b', label='Training Accuracy')\n",
    "    plt.plot(x, val_acc, 'r', label='Validation Accuracy')\n",
    "    plt.title('Model Accuracy')\n",
    "    plt.legend()\n",
    "    plt.subplot(1, 2, 2)\n",
    "    plt.plot(x, loss, 'b', label='Training loss')\n",
    "    plt.plot(x, val_loss, 'r', label='Validation loss')\n",
    "    plt.title('Model Loss')\n",
    "    plt.legend()\n",
    "    "
   ]
  },
  {
   "cell_type": "code",
   "execution_count": 10,
   "metadata": {
    "colab": {
     "base_uri": "https://localhost:8080/"
    },
    "id": "4QhMVL41waT4",
    "outputId": "3ea8c064-56bd-468d-fbee-3cc67d74148d",
    "scrolled": true
   },
   "outputs": [
    {
     "name": "stdout",
     "output_type": "stream",
     "text": [
      "Model: \"sequential\"\n",
      "_________________________________________________________________\n",
      "Layer (type)                 Output Shape              Param #   \n",
      "=================================================================\n",
      "embedding (Embedding)        (None, 980, 100)          1157900   \n",
      "_________________________________________________________________\n",
      "flatten (Flatten)            (None, 98000)             0         \n",
      "_________________________________________________________________\n",
      "dense (Dense)                (None, 10)                980010    \n",
      "_________________________________________________________________\n",
      "dense_1 (Dense)              (None, 1)                 11        \n",
      "=================================================================\n",
      "Total params: 2,137,921\n",
      "Trainable params: 2,137,921\n",
      "Non-trainable params: 0\n",
      "_________________________________________________________________\n"
     ]
    }
   ],
   "source": [
    "# define model\n",
    "from tensorflow.keras import layers\n",
    "embedding_dim = 100\n",
    "\n",
    "model = Sequential()\n",
    "model.add(layers.Embedding(input_dim=vocab_length, \n",
    "                           output_dim=embedding_dim, \n",
    "                           input_length=length_long_sentence,\n",
    "                           trainable=True))\n",
    "model.add(layers.Flatten())\n",
    "model.add(layers.Dense(10, activation='relu'))\n",
    "model.add(layers.Dense(1, activation='sigmoid'))\n",
    "\n",
    "model.compile(optimizer='sgd', loss='binary_crossentropy', metrics=['accuracy'])\n",
    "#model.compile(optimizer='rmsprop', loss='categorical_crossentropy', metrics=['accuracy'])\n",
    "\n",
    "model.summary()"
   ]
  },
  {
   "cell_type": "code",
   "execution_count": 11,
   "metadata": {
    "colab": {
     "base_uri": "https://localhost:8080/"
    },
    "id": "tiEBwHMewaT5",
    "outputId": "4d0f2b0c-cb66-4342-f735-2313a7a9cf34"
   },
   "outputs": [
    {
     "name": "stdout",
     "output_type": "stream",
     "text": [
      "Size of training data is- 38839\n",
      "Size of training labels is- 38839\n",
      "Size of test data is- 9710\n",
      "Size of test labels is- 9710\n",
      "Epoch 1/4\n",
      "3884/3884 [==============================] - 48s 12ms/step - loss: 0.3841 - accuracy: 0.8297 - val_loss: 0.1304 - val_accuracy: 0.9684\n",
      "Epoch 2/4\n",
      "3884/3884 [==============================] - 48s 12ms/step - loss: 0.0721 - accuracy: 0.9785 - val_loss: 0.0472 - val_accuracy: 0.9900\n",
      "Epoch 3/4\n",
      "3884/3884 [==============================] - 49s 13ms/step - loss: 0.0353 - accuracy: 0.9896 - val_loss: 0.0346 - val_accuracy: 0.9864\n",
      "Epoch 4/4\n",
      "3884/3884 [==============================] - 54s 14ms/step - loss: 0.0252 - accuracy: 0.9921 - val_loss: 0.0255 - val_accuracy: 0.9908\n",
      "<class 'tensorflow.python.keras.callbacks.History'>\n"
     ]
    }
   ],
   "source": [
    "# fit the model\n",
    "#history = model.fit(padded_sentences, all_ticket_df['ticket_type'], epochs=100, verbose=1)\n",
    "y_train = train_labels \n",
    "y_test = test_labels\n",
    "\n",
    "print ('Size of training data is-',len(X_train_pedd))\n",
    "print ('Size of training labels is-',len(y_train))\n",
    "print ('Size of test data is-',len(X_test_pedd))\n",
    "print ('Size of test labels is-',len(y_test))\n",
    "\n",
    "history = model.fit(X_train_pedd, y_train,\n",
    "                    epochs=4,\n",
    "                    verbose=True,\n",
    "                    validation_data=(X_test_pedd, y_test), \n",
    "                    batch_size=10)\n",
    "\n",
    "\n",
    "print(type(history))\n"
   ]
  },
  {
   "cell_type": "code",
   "execution_count": 12,
   "metadata": {
    "colab": {
     "base_uri": "https://localhost:8080/",
     "height": 388
    },
    "id": "ZgCTDEmmwaT5",
    "outputId": "7ff7039f-500b-40ae-bb83-91f476d56433"
   },
   "outputs": [
    {
     "name": "stdout",
     "output_type": "stream",
     "text": [
      "Training Accuracy: 99.3331\n",
      "Testing Accuracy:  99.0834\n",
      "dict_keys(['loss', 'accuracy', 'val_loss', 'val_accuracy'])\n"
     ]
    },
    {
     "data": {
      "image/png": "[encoded data removed]",
      "text/plain": [
       "<Figure size 864x360 with 2 Axes>"
      ]
     },
     "metadata": {
      "tags": []
     },
     "output_type": "display_data"
    }
   ],
   "source": [
    "# evaluate the model\n",
    "#loss, accuracy = model.evaluate(padded_sentences, all_ticket_df['ticket_type'], verbose=0)\n",
    "#print('Accuracy: %f' % (accuracy*100))\n",
    "\n",
    "loss, accuracy = model.evaluate(X_train_pedd, y_train, verbose=False)\n",
    "print(\"Training Accuracy: {:.4f}\".format(accuracy*100))\n",
    "\n",
    "loss, accuracy = model.evaluate(X_test_pedd, y_test, verbose=False)\n",
    "print(\"Testing Accuracy:  {:.4f}\".format(accuracy*100))\n",
    "\n",
    "print(history.history.keys())\n",
    "plot_history(history)"
   ]
  },
  {
   "cell_type": "code",
   "execution_count": 13,
   "metadata": {
    "colab": {
     "base_uri": "https://localhost:8080/"
    },
    "id": "yH3Iw4qfwaT5",
    "outputId": "d822b849-0f09-450b-8114-11bd063e7c12"
   },
   "outputs": [
    {
     "data": {
      "text/plain": [
       "array([[0.99731016],\n",
       "       [0.00909862]], dtype=float32)"
      ]
     },
     "execution_count": 13,
     "metadata": {
      "tags": []
     },
     "output_type": "execute_result"
    }
   ],
   "source": [
    "#Predict\n",
    "\n",
    "textd_1 =\"hello movement has left available device please kind device denmark copenhagen denmark please source quotation shipping by lead\"\n",
    "textd_2 =\"cannot submit hours getting error job defined for person assignment human resources application error\"\n",
    "\n",
    "testd =[textd_1,textd_2]\n",
    "testd_tokens = tokenizer.texts_to_sequences(testd)\n",
    "testd_tokens_pad = pad_sequences(testd_tokens, length_long_sentence, padding='post')\n",
    "\n",
    "model.predict(x=testd_tokens_pad)"
   ]
  },
  {
   "cell_type": "code",
   "execution_count": 13,
   "metadata": {
    "id": "1ZFVNObawaT6"
   },
   "outputs": [],
   "source": []
  }
 ],
 "metadata": {
  "accelerator": "GPU",
  "colab": {
   "name": "BinaryClassificationDeepLearning.ipynb",
   "provenance": []
  },
  "kernelspec": {
   "display_name": "Python 3",
   "language": "python",
   "name": "python3"
  },
  "language_info": {
   "codemirror_mode": {
    "name": "ipython",
    "version": 3
   },
   "file_extension": ".py",
   "mimetype": "text/x-python",
   "name": "python",
   "nbconvert_exporter": "python",
   "pygments_lexer": "ipython3",
   "version": "3.7.6"
  }
 },
 "nbformat": 4,
 "nbformat_minor": 1
}
