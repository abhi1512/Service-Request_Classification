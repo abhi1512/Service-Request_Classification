{
 "cells": [
  {
   "cell_type": "markdown",
   "metadata": {
    "colab_type": "text",
    "id": "7q9tsZ4hqufF"
   },
   "source": [
    "# **COVID 19 Impact on Ecommerce ASSIGNMENT**\n",
    "\n",
    "\n",
    "---\n",
    "\n",
    "\n",
    "\n",
    "Assignment\n",
    "\n",
    "---\n",
    "\n"
   ]
  },
  {
   "cell_type": "markdown",
   "metadata": {
    "colab_type": "text",
    "id": "upjKWap6s37e"
   },
   "source": [
    "**Team:** Team Vishleshi\n",
    "\n",
    "\n",
    "---\n",
    "\n",
    "\n",
    "\n",
    "\n",
    "\n",
    "\n",
    "\n",
    "\n",
    "\n"
   ]
  },
  {
   "cell_type": "markdown",
   "metadata": {
    "colab_type": "text",
    "id": "M7GEECcAs-kS"
   },
   "source": [
    "## **Abstract**\n",
    "\n",
    "Foo bar..\n",
    "\n",
    "\n",
    "---\n",
    "\n",
    "\n",
    "\n",
    "\n"
   ]
  },
  {
   "cell_type": "markdown",
   "metadata": {
    "colab_type": "text",
    "id": "BGf9xkiWueBr"
   },
   "source": [
    "## **Problem Statement & Business Context**\n",
    "\n",
    "The details of the problem context and the analytical overview can be found HERE\n",
    "\n",
    "\n",
    "\n",
    "---\n",
    "\n",
    "\n",
    "\n",
    "\n",
    "\n",
    "\n",
    "\n"
   ]
  },
  {
   "cell_type": "markdown",
   "metadata": {
    "colab_type": "text",
    "id": "E0UYAVPKv2Ae"
   },
   "source": [
    "## **Exploratory Data Analysis**"
   ]
  },
  {
   "cell_type": "code",
   "execution_count": 1,
   "metadata": {},
   "outputs": [],
   "source": [
    "#!pip install gensim\n",
    "#!pip install wordcloud"
   ]
  },
  {
   "cell_type": "markdown",
   "metadata": {
    "colab_type": "text",
    "id": "81QwC8H5wEqC"
   },
   "source": [
    "### Print Formats & Libraries"
   ]
  },
  {
   "cell_type": "code",
   "execution_count": 2,
   "metadata": {
    "colab": {},
    "colab_type": "code",
    "id": "pUajaU7HuiUU"
   },
   "outputs": [],
   "source": [
    "class color:\n",
    "   PURPLE = '\\033[95m'\n",
    "   CYAN = '\\033[96m'\n",
    "   DARKCYAN = '\\033[36m'\n",
    "   BLUE = '\\033[94m'\n",
    "   GREEN = '\\033[92m'\n",
    "   YELLOW = '\\033[93m'\n",
    "   RED = '\\033[91m'\n",
    "   BOLD = '\\033[1m'\n",
    "   UNDERLINE = '\\033[4m'\n",
    "   END = '\\033[0m'"
   ]
  },
  {
   "cell_type": "code",
   "execution_count": 3,
   "metadata": {
    "colab": {
     "base_uri": "https://localhost:8080/",
     "height": 35
    },
    "colab_type": "code",
    "executionInfo": {
     "elapsed": 3901,
     "status": "ok",
     "timestamp": 1592031244782,
     "user": {
      "displayName": "Abhinav Kimothi",
      "photoUrl": "https://lh3.googleusercontent.com/a-/AOh14Ggk-AW7HbPpuPwGfd4mOddPDI2UV_apsStpfn4lsA=s64",
      "userId": "13208395926076107019"
     },
     "user_tz": -330
    },
    "id": "KeQUnFgCwP99",
    "outputId": "23ed15bd-16a8-45e7-ac9d-64d4eb10ddc1"
   },
   "outputs": [
    {
     "name": "stdout",
     "output_type": "stream",
     "text": [
      "\u001b[1m\u001b[91mSolving for the current objective we will be using python version 3.7.6\n"
     ]
    }
   ],
   "source": [
    "%matplotlib inline \n",
    "import warnings\n",
    "warnings.filterwarnings('ignore')\n",
    "import pandas as pd\n",
    "import numpy as np\n",
    "import seaborn as sns\n",
    "import os\n",
    "from matplotlib import pyplot as plt\n",
    "from scipy.stats import ttest_1samp, ttest_ind, mannwhitneyu, levene, shapiro\n",
    "from statsmodels.stats.power import ttest_power\n",
    "from statsmodels.stats.proportion import proportions_ztest\n",
    "import statsmodels.api as sm\n",
    "from   statsmodels.formula.api import ols\n",
    "from sklearn.linear_model import LogisticRegression\n",
    "from sklearn.model_selection import train_test_split\n",
    "from sklearn import metrics\n",
    "from sklearn import preprocessing\n",
    "from sklearn import model_selection\n",
    "from sklearn.naive_bayes import GaussianNB\n",
    "from sklearn.neighbors import KNeighborsClassifier\n",
    "from sklearn.tree import DecisionTreeRegressor\n",
    "from scipy.stats import zscore\n",
    "from sklearn import svm\n",
    "from platform import python_version\n",
    "from sklearn.model_selection import GridSearchCV\n",
    "from sklearn.decomposition import PCA\n",
    "import itertools\n",
    "from sklearn.linear_model import LinearRegression\n",
    "from sklearn.linear_model import Ridge\n",
    "from sklearn.linear_model import Lasso\n",
    "from nltk.stem import SnowballStemmer\n",
    "from nltk.tokenize import word_tokenize \n",
    "from nltk.corpus import stopwords\n",
    "from nltk.corpus import stopwords\n",
    "from sklearn.feature_extraction.text import CountVectorizer\n",
    "from sklearn.feature_extraction.text import TfidfTransformer\n",
    "\n",
    "import gensim\n",
    "from gensim.utils import simple_preprocess\n",
    "from gensim.parsing.preprocessing import STOPWORDS\n",
    "import gensim.corpora  as corpora\n",
    "\n",
    "from nltk.stem import WordNetLemmatizer, SnowballStemmer\n",
    "from nltk.stem.porter import *\n",
    "import nltk\n",
    "from wordcloud import WordCloud\n",
    "import glob\n",
    "\n",
    "print (color.BOLD + color.RED + \"Solving for the current objective we will be using python version \" + python_version())"
   ]
  },
  {
   "cell_type": "markdown",
   "metadata": {
    "colab_type": "text",
    "id": "uAu8W5GxwfHh"
   },
   "source": [
    "### Data Loading"
   ]
  },
  {
   "cell_type": "code",
   "execution_count": 4,
   "metadata": {
    "colab": {},
    "colab_type": "code",
    "id": "vG8TlGY6wwAN"
   },
   "outputs": [
    {
     "data": {
      "text/html": [
       "<div>\n",
       "<style scoped>\n",
       "    .dataframe tbody tr th:only-of-type {\n",
       "        vertical-align: middle;\n",
       "    }\n",
       "\n",
       "    .dataframe tbody tr th {\n",
       "        vertical-align: top;\n",
       "    }\n",
       "\n",
       "    .dataframe thead th {\n",
       "        text-align: right;\n",
       "    }\n",
       "</style>\n",
       "<table border=\"1\" class=\"dataframe\">\n",
       "  <thead>\n",
       "    <tr style=\"text-align: right;\">\n",
       "      <th></th>\n",
       "      <th>body</th>\n",
       "    </tr>\n",
       "  </thead>\n",
       "  <tbody>\n",
       "    <tr>\n",
       "      <th>0</th>\n",
       "      <td>hi since recruiter lead permission approve req...</td>\n",
       "    </tr>\n",
       "    <tr>\n",
       "      <th>1</th>\n",
       "      <td>icon dear please setup icon per icon engineers...</td>\n",
       "    </tr>\n",
       "    <tr>\n",
       "      <th>2</th>\n",
       "      <td>work experience user hi work experience studen...</td>\n",
       "    </tr>\n",
       "    <tr>\n",
       "      <th>3</th>\n",
       "      <td>requesting meeting hi please help follow equip...</td>\n",
       "    </tr>\n",
       "    <tr>\n",
       "      <th>4</th>\n",
       "      <td>re expire days hi ask help update passwords co...</td>\n",
       "    </tr>\n",
       "  </tbody>\n",
       "</table>\n",
       "</div>"
      ],
      "text/plain": [
       "                                                body\n",
       "0  hi since recruiter lead permission approve req...\n",
       "1  icon dear please setup icon per icon engineers...\n",
       "2  work experience user hi work experience studen...\n",
       "3  requesting meeting hi please help follow equip...\n",
       "4  re expire days hi ask help update passwords co..."
      ]
     },
     "execution_count": 4,
     "metadata": {},
     "output_type": "execute_result"
    }
   ],
   "source": [
    "data = pd.read_csv('all_ticketsnew.csv')\n",
    "data=data.drop(['title','ticket_type','category','sub_category1','sub_category2','business_service','urgency','impact','body-tokenized'],axis=1,errors='silent')\n",
    "data.head()"
   ]
  },
  {
   "cell_type": "markdown",
   "metadata": {},
   "source": [
    "### Create Bigram & Trigram Modes Using Gensim"
   ]
  },
  {
   "cell_type": "code",
   "execution_count": 5,
   "metadata": {},
   "outputs": [
    {
     "data": {
      "text/plain": [
       "[['hi',\n",
       "  'since',\n",
       "  'recruiter',\n",
       "  'lead',\n",
       "  'permission',\n",
       "  'approve',\n",
       "  'requisitions',\n",
       "  'makes',\n",
       "  'please',\n",
       "  'make',\n",
       "  'thanks',\n",
       "  'recruiter']]"
      ]
     },
     "execution_count": 5,
     "metadata": {},
     "output_type": "execute_result"
    }
   ],
   "source": [
    "def sent_to_words (sentences):\n",
    "    for sentence in sentences:\n",
    "        yield(gensim.utils.simple_preprocess(str(sentence),deacc=True))\n",
    "        \n",
    "data_words=list(sent_to_words(data['body']))\n",
    "data_words[:1]"
   ]
  },
  {
   "cell_type": "code",
   "execution_count": 6,
   "metadata": {},
   "outputs": [
    {
     "name": "stdout",
     "output_type": "stream",
     "text": [
      "['hi', 'since', 'recruiter', 'lead', 'permission', 'approve', 'requisitions', 'makes', 'please', 'make', 'thanks', 'recruiter']\n"
     ]
    }
   ],
   "source": [
    "bigram = gensim.models.Phrases(data_words, min_count=5, threshold=100)\n",
    "trigram = gensim.models.Phrases(bigram[data_words], threshold=100)\n",
    "\n",
    "bigram_mod = gensim.models.phrases.Phraser(bigram)\n",
    "trigram_mod = gensim.models.phrases.Phraser(trigram)\n",
    "\n",
    "print (trigram_mod[bigram_mod[data_words[0]]])"
   ]
  },
  {
   "cell_type": "code",
   "execution_count": 7,
   "metadata": {},
   "outputs": [
    {
     "name": "stderr",
     "output_type": "stream",
     "text": [
      "[nltk_data] Downloading package stopwords to C:\\Users\\Aditya\n",
      "[nltk_data]     Jain\\AppData\\Roaming\\nltk_data...\n",
      "[nltk_data]   Package stopwords is already up-to-date!\n"
     ]
    }
   ],
   "source": [
    "#Removing StopWords\n",
    "nltk.download('stopwords')\n",
    "stop_words=list(stopwords.words('english'))\n",
    "# Removing Stop Words\n",
    "stop_words=stop_words + ['hi','regards','thank','hello','sent','kind','help','dear','best','let','please','could','thanks']\n",
    "\n",
    "def remove_stopwords(texts):\n",
    "    return [[word for word in simple_preprocess(str(doc)) if word not in stop_words] for doc in texts]\n",
    "\n",
    "def make_bigrams(texts):\n",
    "    return [bigram_mod[doc] for doc in texts]\n",
    "\n",
    "def make_trigrams(texts):\n",
    "    return [trigram_mod[bigram_mod[doc]] for doc in texts]\n",
    "\n",
    "def lemmitization(texts):\n",
    "    accepted_tags=['NOUN','ADJ','VERB','ADV']\n",
    "    texts_out=[]\n",
    "    for sent in texts:\n",
    "        doc = nlp(\" \".join(sent))\n",
    "        texts_out.append([token.lemma_ for token in doc if token.pos_ in accepted_tags])"
   ]
  },
  {
   "cell_type": "code",
   "execution_count": 8,
   "metadata": {},
   "outputs": [
    {
     "name": "stdout",
     "output_type": "stream",
     "text": [
      "[['since', 'recruiter', 'lead', 'permission', 'approve', 'requisitions', 'makes', 'make', 'recruiter']]\n"
     ]
    }
   ],
   "source": [
    "data_words =  remove_stopwords(data_words)\n",
    "data_words_bigrams =  make_bigrams(data_words)\n",
    "\n",
    "print (data_words_bigrams[:1])"
   ]
  },
  {
   "cell_type": "code",
   "execution_count": 9,
   "metadata": {},
   "outputs": [
    {
     "name": "stdout",
     "output_type": "stream",
     "text": [
      "[[(0, 1), (1, 1), (2, 1), (3, 1), (4, 1), (5, 2), (6, 1), (7, 1)]]\n",
      "[[('approve', 1), ('lead', 1), ('make', 1), ('makes', 1), ('permission', 1), ('recruiter', 2), ('requisitions', 1), ('since', 1)]]\n"
     ]
    }
   ],
   "source": [
    "id2word = corpora.Dictionary(data_words)\n",
    "texts =  data_words\n",
    "corpus = [id2word.doc2bow(text) for text in texts]\n",
    "\n",
    "print (corpus[:1])\n",
    "print ([[(id2word[id],freq) for id, freq in cp] for cp in corpus[:1]])"
   ]
  },
  {
   "cell_type": "markdown",
   "metadata": {},
   "source": [
    "## Baseline LDA Model"
   ]
  },
  {
   "cell_type": "code",
   "execution_count": 10,
   "metadata": {},
   "outputs": [
    {
     "name": "stdout",
     "output_type": "stream",
     "text": [
      "(0, '0.023*\"access\" + 0.022*\"october\" + 0.022*\"report\" + 0.021*\"sa\" + 0.017*\"si\" + 0.016*\"tuesday\" + 0.016*\"wednesday\" + 0.016*\"thursday\" + 0.015*\"officer\" + 0.015*\"la\"')\n",
      "\n",
      "\n",
      "(1, '0.015*\"issue\" + 0.012*\"access\" + 0.012*\"error\" + 0.009*\"en\" + 0.009*\"monday\" + 0.007*\"message\" + 0.007*\"october\" + 0.007*\"problem\" + 0.007*\"need\" + 0.007*\"cannot\"')\n",
      "\n",
      "\n",
      "(2, '0.031*\"approval\" + 0.027*\"leave\" + 0.026*\"submit\" + 0.019*\"days\" + 0.017*\"manager\" + 0.017*\"action\" + 0.016*\"annual\" + 0.014*\"submitted\" + 0.014*\"approve\" + 0.014*\"week\"')\n",
      "\n",
      "\n"
     ]
    }
   ],
   "source": [
    "lda_model = gensim.models.ldamodel.LdaModel(corpus=corpus,\n",
    "                                           id2word=id2word,\n",
    "                                           num_topics=3,\n",
    "                                           random_state=100,\n",
    "                                           chunksize=100,\n",
    "                                           passes=10,\n",
    "                                           alpha='auto',\n",
    "                                           per_word_topics=True)\n",
    "\n",
    "for topic in lda_model.print_topics():\n",
    "    print (topic)\n",
    "    print ('\\n')"
   ]
  },
  {
   "cell_type": "code",
   "execution_count": 11,
   "metadata": {},
   "outputs": [
    {
     "name": "stdout",
     "output_type": "stream",
     "text": [
      "Perpexity score is -7.521787 and Coherence score is 0.530786\n"
     ]
    }
   ],
   "source": [
    "doc_lda = lda_model[corpus]\n",
    "perpexity = lda_model.log_perplexity(corpus)\n",
    "coherence_model = gensim.models.ldamodel.CoherenceModel(model=lda_model, \n",
    "                                texts=data_words,\n",
    "                                dictionary=id2word,\n",
    "                                coherence='c_v')\n",
    "\n",
    "coherence_score = coherence_model.get_coherence()\n",
    "\n",
    "print ('Perpexity score is %f and Coherence score is %f'%(perpexity,coherence_score))"
   ]
  },
  {
   "cell_type": "markdown",
   "metadata": {},
   "source": [
    "## Find the optimal number of topics for LDA"
   ]
  },
  {
   "cell_type": "code",
   "execution_count": 12,
   "metadata": {},
   "outputs": [],
   "source": [
    "def compute_coherence_values(dictionary, corpus, texts, limit, start=2, step=3):\n",
    "    \"\"\"\n",
    "    Compute c_v coherence for various number of topics\n",
    "\n",
    "    Parameters:\n",
    "    ----------\n",
    "    dictionary : Gensim dictionary\n",
    "    corpus : Gensim corpus\n",
    "    texts : List of input texts\n",
    "    limit : Max num of topics\n",
    "\n",
    "    Returns:\n",
    "    -------\n",
    "    model_list : List of LDA topic models\n",
    "    coherence_values : Coherence values corresponding to the LDA model with respective number of topics\n",
    "    \"\"\"\n",
    "    coherence_values = []\n",
    "    model_list = []\n",
    "    for num_topics in range(start, limit, step):\n",
    "        model = gensim.models.ldamodel.LdaModel(corpus=corpus, num_topics=num_topics, id2word=id2word)\n",
    "        model_list.append(model)\n",
    "        coherencemodel = gensim.models.ldamodel.CoherenceModel(model=model, texts=texts, dictionary=dictionary, coherence='c_v')\n",
    "        coherence_values.append(coherencemodel.get_coherence())\n",
    "\n",
    "    return model_list, coherence_values"
   ]
  },
  {
   "cell_type": "code",
   "execution_count": 13,
   "metadata": {},
   "outputs": [],
   "source": [
    "model_list, coherence_values = compute_coherence_values(dictionary=id2word, \n",
    "                                                        corpus=corpus, \n",
    "                                                        texts=data_words, \n",
    "                                                        start=2, \n",
    "                                                        limit=6, \n",
    "                                                        step=1)"
   ]
  },
  {
   "cell_type": "code",
   "execution_count": 14,
   "metadata": {},
   "outputs": [
    {
     "data": {
      "image/png": "[encoded data removed]",
      "text/plain": [
       "<Figure size 432x288 with 1 Axes>"
      ]
     },
     "metadata": {
      "needs_background": "light"
     },
     "output_type": "display_data"
    }
   ],
   "source": [
    "# Show graph\n",
    "limit=6; start=2; step=1;\n",
    "x = range(start, limit, step)\n",
    "plt.plot(x, coherence_values)\n",
    "plt.xlabel(\"Num Topics\")\n",
    "plt.ylabel(\"Coherence score\")\n",
    "plt.legend((\"coherence_values\"), loc='best')\n",
    "plt.show()"
   ]
  },
  {
   "cell_type": "code",
   "execution_count": 22,
   "metadata": {},
   "outputs": [
    {
     "name": "stdout",
     "output_type": "stream",
     "text": [
      "Num Topics = 2  has Coherence Value of 0.5317\n",
      "Num Topics = 3  has Coherence Value of 0.4177\n",
      "Num Topics = 4  has Coherence Value of 0.5222\n",
      "Num Topics = 5  has Coherence Value of 0.4881\n",
      "(0, '0.021*\"sa\" + 0.020*\"si\" + 0.018*\"la\" + 0.016*\"pm\" + 0.014*\"confluence\" + 0.014*\"site\" + 0.013*\"tuesday\" + 0.013*\"ca\" + 0.012*\"wednesday\" + 0.011*\"add\"')\n",
      "\n",
      "\n",
      "(1, '0.027*\"error\" + 0.014*\"manager\" + 0.013*\"monday\" + 0.011*\"access\" + 0.010*\"approval\" + 0.010*\"submit\" + 0.010*\"details\" + 0.009*\"report\" + 0.009*\"en\" + 0.009*\"request\"')\n",
      "\n",
      "\n",
      "(2, '0.024*\"administrator\" + 0.020*\"log\" + 0.020*\"starter\" + 0.019*\"po\" + 0.017*\"receive\" + 0.017*\"form\" + 0.017*\"item\" + 0.015*\"purchase\" + 0.014*\"section\" + 0.014*\"phone\"')\n",
      "\n",
      "\n",
      "(3, '0.018*\"issue\" + 0.011*\"access\" + 0.008*\"issues\" + 0.008*\"working\" + 0.008*\"cannot\" + 0.007*\"problem\" + 0.007*\"thursday\" + 0.007*\"friday\" + 0.007*\"high\" + 0.006*\"tuesday\"')\n",
      "\n",
      "\n",
      "(4, '0.022*\"registered\" + 0.015*\"password\" + 0.015*\"mailbox\" + 0.015*\"message\" + 0.015*\"number\" + 0.014*\"information\" + 0.013*\"date\" + 0.013*\"street\" + 0.012*\"kingdom\" + 0.012*\"leaver\"')\n",
      "\n",
      "\n"
     ]
    }
   ],
   "source": [
    "# Print the coherence scores\n",
    "for m, cv in zip(x, coherence_values):\n",
    "    print(\"Num Topics =\", m, \" has Coherence Value of\", round(cv, 4))\n",
    "    \n",
    "# Select the model and print the topics\n",
    "optimal_model = model_list[3]\n",
    "model_topics = optimal_model.show_topics(formatted=False)\n",
    "\n",
    "for topic in optimal_model.print_topics(num_words=10):\n",
    "    print (topic)\n",
    "    print ('\\n')    "
   ]
  },
  {
   "cell_type": "markdown",
   "metadata": {},
   "source": [
    "## Finding the dominant topic in each sentence "
   ]
  },
  {
   "cell_type": "code",
   "execution_count": 23,
   "metadata": {},
   "outputs": [
    {
     "data": {
      "text/html": [
       "<div>\n",
       "<style scoped>\n",
       "    .dataframe tbody tr th:only-of-type {\n",
       "        vertical-align: middle;\n",
       "    }\n",
       "\n",
       "    .dataframe tbody tr th {\n",
       "        vertical-align: top;\n",
       "    }\n",
       "\n",
       "    .dataframe thead th {\n",
       "        text-align: right;\n",
       "    }\n",
       "</style>\n",
       "<table border=\"1\" class=\"dataframe\">\n",
       "  <thead>\n",
       "    <tr style=\"text-align: right;\">\n",
       "      <th></th>\n",
       "      <th>Document_No</th>\n",
       "      <th>Dominant_Topic</th>\n",
       "      <th>Topic_Perc_Contrib</th>\n",
       "      <th>Keywords</th>\n",
       "      <th>Text</th>\n",
       "    </tr>\n",
       "  </thead>\n",
       "  <tbody>\n",
       "    <tr>\n",
       "      <th>0</th>\n",
       "      <td>0</td>\n",
       "      <td>3.0</td>\n",
       "      <td>0.9167</td>\n",
       "      <td>issue, access, issues, working, cannot, proble...</td>\n",
       "      <td>[since, recruiter, lead, permission, approve, ...</td>\n",
       "    </tr>\n",
       "    <tr>\n",
       "      <th>1</th>\n",
       "      <td>1</td>\n",
       "      <td>3.0</td>\n",
       "      <td>0.9170</td>\n",
       "      <td>issue, access, issues, working, cannot, proble...</td>\n",
       "      <td>[icon, setup, icon, per, icon, engineers, deta...</td>\n",
       "    </tr>\n",
       "    <tr>\n",
       "      <th>2</th>\n",
       "      <td>2</td>\n",
       "      <td>3.0</td>\n",
       "      <td>0.7295</td>\n",
       "      <td>issue, access, issues, working, cannot, proble...</td>\n",
       "      <td>[work, experience, user, work, experience, stu...</td>\n",
       "    </tr>\n",
       "    <tr>\n",
       "      <th>3</th>\n",
       "      <td>3</td>\n",
       "      <td>2.0</td>\n",
       "      <td>0.5901</td>\n",
       "      <td>administrator, log, starter, po, receive, form...</td>\n",
       "      <td>[requesting, meeting, follow, equipments, cabl...</td>\n",
       "    </tr>\n",
       "    <tr>\n",
       "      <th>4</th>\n",
       "      <td>4</td>\n",
       "      <td>3.0</td>\n",
       "      <td>0.4518</td>\n",
       "      <td>issue, access, issues, working, cannot, proble...</td>\n",
       "      <td>[expire, days, ask, update, passwords, colleag...</td>\n",
       "    </tr>\n",
       "    <tr>\n",
       "      <th>5</th>\n",
       "      <td>5</td>\n",
       "      <td>1.0</td>\n",
       "      <td>0.9176</td>\n",
       "      <td>error, manager, monday, access, approval, subm...</td>\n",
       "      <td>[verification, warning, got, attached, address...</td>\n",
       "    </tr>\n",
       "    <tr>\n",
       "      <th>6</th>\n",
       "      <td>6</td>\n",
       "      <td>3.0</td>\n",
       "      <td>0.5012</td>\n",
       "      <td>issue, access, issues, working, cannot, proble...</td>\n",
       "      <td>[looks, blacklisted, receiving, mails, anymore...</td>\n",
       "    </tr>\n",
       "    <tr>\n",
       "      <th>7</th>\n",
       "      <td>7</td>\n",
       "      <td>0.0</td>\n",
       "      <td>0.4165</td>\n",
       "      <td>sa, si, la, pm, confluence, site, tuesday, ca,...</td>\n",
       "      <td>[prod, tunneling, va, la, tunneling, la, host,...</td>\n",
       "    </tr>\n",
       "    <tr>\n",
       "      <th>8</th>\n",
       "      <td>8</td>\n",
       "      <td>1.0</td>\n",
       "      <td>0.5468</td>\n",
       "      <td>error, manager, monday, access, approval, subm...</td>\n",
       "      <td>[modules, report, report, cost, much]</td>\n",
       "    </tr>\n",
       "    <tr>\n",
       "      <th>9</th>\n",
       "      <td>9</td>\n",
       "      <td>3.0</td>\n",
       "      <td>0.7972</td>\n",
       "      <td>issue, access, issues, working, cannot, proble...</td>\n",
       "      <td>[passwords, client, passwords]</td>\n",
       "    </tr>\n",
       "  </tbody>\n",
       "</table>\n",
       "</div>"
      ],
      "text/plain": [
       "   Document_No  Dominant_Topic  Topic_Perc_Contrib  \\\n",
       "0            0             3.0              0.9167   \n",
       "1            1             3.0              0.9170   \n",
       "2            2             3.0              0.7295   \n",
       "3            3             2.0              0.5901   \n",
       "4            4             3.0              0.4518   \n",
       "5            5             1.0              0.9176   \n",
       "6            6             3.0              0.5012   \n",
       "7            7             0.0              0.4165   \n",
       "8            8             1.0              0.5468   \n",
       "9            9             3.0              0.7972   \n",
       "\n",
       "                                            Keywords  \\\n",
       "0  issue, access, issues, working, cannot, proble...   \n",
       "1  issue, access, issues, working, cannot, proble...   \n",
       "2  issue, access, issues, working, cannot, proble...   \n",
       "3  administrator, log, starter, po, receive, form...   \n",
       "4  issue, access, issues, working, cannot, proble...   \n",
       "5  error, manager, monday, access, approval, subm...   \n",
       "6  issue, access, issues, working, cannot, proble...   \n",
       "7  sa, si, la, pm, confluence, site, tuesday, ca,...   \n",
       "8  error, manager, monday, access, approval, subm...   \n",
       "9  issue, access, issues, working, cannot, proble...   \n",
       "\n",
       "                                                Text  \n",
       "0  [since, recruiter, lead, permission, approve, ...  \n",
       "1  [icon, setup, icon, per, icon, engineers, deta...  \n",
       "2  [work, experience, user, work, experience, stu...  \n",
       "3  [requesting, meeting, follow, equipments, cabl...  \n",
       "4  [expire, days, ask, update, passwords, colleag...  \n",
       "5  [verification, warning, got, attached, address...  \n",
       "6  [looks, blacklisted, receiving, mails, anymore...  \n",
       "7  [prod, tunneling, va, la, tunneling, la, host,...  \n",
       "8              [modules, report, report, cost, much]  \n",
       "9                     [passwords, client, passwords]  "
      ]
     },
     "execution_count": 23,
     "metadata": {},
     "output_type": "execute_result"
    }
   ],
   "source": [
    "def format_topics_sentences(ldamodel=lda_model, corpus=corpus, texts=data):\n",
    "    # Init output\n",
    "    sent_topics_df = pd.DataFrame()\n",
    "\n",
    "    # Get main topic in each document\n",
    "    for i, row in enumerate(ldamodel[corpus]):\n",
    "        \n",
    "        row = sorted(row, key=lambda x: (x[1]), reverse=True)\n",
    "        # Get the Dominant topic, Perc Contribution and Keywords for each document\n",
    "        for j, (topic_num, prop_topic) in enumerate(row):\n",
    "            if j == 0:  # => dominant topic\n",
    "                wp = ldamodel.show_topic(topic_num)\n",
    "                topic_keywords = \", \".join([word for word, prop in wp])\n",
    "                sent_topics_df = sent_topics_df.append(pd.Series([int(topic_num), round(prop_topic,4), topic_keywords]), ignore_index=True)\n",
    "            else:\n",
    "                break\n",
    "    sent_topics_df.columns = ['Dominant_Topic', 'Perc_Contribution', 'Topic_Keywords']\n",
    "\n",
    "    # Add original text to the end of the output\n",
    "    contents = pd.Series(data_words)\n",
    "    sent_topics_df = pd.concat([sent_topics_df, contents], axis=1)\n",
    "    return(sent_topics_df)\n",
    "\n",
    "\n",
    "df_topic_sents_keywords = format_topics_sentences(ldamodel=optimal_model, corpus=corpus, texts=data)\n",
    "\n",
    "# Format\n",
    "df_dominant_topic = df_topic_sents_keywords.reset_index()\n",
    "df_dominant_topic.columns = ['Document_No', 'Dominant_Topic', 'Topic_Perc_Contrib', 'Keywords', 'Text']\n",
    "\n",
    "# Show\n",
    "df_dominant_topic.head(10)"
   ]
  },
  {
   "cell_type": "code",
   "execution_count": 24,
   "metadata": {},
   "outputs": [
    {
     "data": {
      "text/plain": [
       "3.0    18799\n",
       "0.0    12557\n",
       "1.0     8361\n",
       "2.0     5572\n",
       "4.0     3260\n",
       "Name: Dominant_Topic, dtype: int64"
      ]
     },
     "execution_count": 24,
     "metadata": {},
     "output_type": "execute_result"
    }
   ],
   "source": [
    "df_dominant_topic['Dominant_Topic'].value_counts()"
   ]
  },
  {
   "cell_type": "markdown",
   "metadata": {},
   "source": [
    "## Find the most representative document for each topic"
   ]
  },
  {
   "cell_type": "code",
   "execution_count": 17,
   "metadata": {},
   "outputs": [
    {
     "data": {
      "text/html": [
       "<div>\n",
       "<style scoped>\n",
       "    .dataframe tbody tr th:only-of-type {\n",
       "        vertical-align: middle;\n",
       "    }\n",
       "\n",
       "    .dataframe tbody tr th {\n",
       "        vertical-align: top;\n",
       "    }\n",
       "\n",
       "    .dataframe thead th {\n",
       "        text-align: right;\n",
       "    }\n",
       "</style>\n",
       "<table border=\"1\" class=\"dataframe\">\n",
       "  <thead>\n",
       "    <tr style=\"text-align: right;\">\n",
       "      <th></th>\n",
       "      <th>Topic_Num</th>\n",
       "      <th>Topic_Perc_Contrib</th>\n",
       "      <th>Keywords</th>\n",
       "      <th>Text</th>\n",
       "    </tr>\n",
       "  </thead>\n",
       "  <tbody>\n",
       "    <tr>\n",
       "      <th>0</th>\n",
       "      <td>0.0</td>\n",
       "      <td>0.9982</td>\n",
       "      <td>access, issue, issues, en, working, message, s...</td>\n",
       "      <td>[monday, test, estimates, cannot, send, toward...</td>\n",
       "    </tr>\n",
       "    <tr>\n",
       "      <th>1</th>\n",
       "      <td>1.0</td>\n",
       "      <td>0.9969</td>\n",
       "      <td>error, log, registered, password, number, admi...</td>\n",
       "      <td>[tuesday, pm, confluence, resetting, tuesday, ...</td>\n",
       "    </tr>\n",
       "    <tr>\n",
       "      <th>2</th>\n",
       "      <td>2.0</td>\n",
       "      <td>0.9978</td>\n",
       "      <td>error, manager, issue, friday, tuesday, thursd...</td>\n",
       "      <td>[sheet, left, enter, sheet, code, period, peri...</td>\n",
       "    </tr>\n",
       "  </tbody>\n",
       "</table>\n",
       "</div>"
      ],
      "text/plain": [
       "   Topic_Num  Topic_Perc_Contrib  \\\n",
       "0        0.0              0.9982   \n",
       "1        1.0              0.9969   \n",
       "2        2.0              0.9978   \n",
       "\n",
       "                                            Keywords  \\\n",
       "0  access, issue, issues, en, working, message, s...   \n",
       "1  error, log, registered, password, number, admi...   \n",
       "2  error, manager, issue, friday, tuesday, thursd...   \n",
       "\n",
       "                                                Text  \n",
       "0  [monday, test, estimates, cannot, send, toward...  \n",
       "1  [tuesday, pm, confluence, resetting, tuesday, ...  \n",
       "2  [sheet, left, enter, sheet, code, period, peri...  "
      ]
     },
     "execution_count": 17,
     "metadata": {},
     "output_type": "execute_result"
    }
   ],
   "source": [
    "# Group top 5 sentences under each topic\n",
    "sent_topics_sorteddf_mallet = pd.DataFrame()\n",
    "\n",
    "sent_topics_outdf_grpd = df_topic_sents_keywords.groupby('Dominant_Topic')\n",
    "\n",
    "for i, grp in sent_topics_outdf_grpd:\n",
    "    sent_topics_sorteddf_mallet = pd.concat([sent_topics_sorteddf_mallet, \n",
    "                                             grp.sort_values(['Perc_Contribution'], ascending=[0]).head(1)], \n",
    "                                            axis=0)\n",
    "\n",
    "# Reset Index    \n",
    "sent_topics_sorteddf_mallet.reset_index(drop=True, inplace=True)\n",
    "\n",
    "# Format\n",
    "sent_topics_sorteddf_mallet.columns = ['Topic_Num', \"Topic_Perc_Contrib\", \"Keywords\", \"Text\"]\n",
    "\n",
    "#The tabular output above actually has 20 rows, one each for a topic. It has the topic number, \n",
    "#the keywords, and the most representative document. The Perc_Contribution column is nothing \n",
    "#but the percentage contribution of the topic in the given document.\n",
    "sent_topics_sorteddf_mallet.head()"
   ]
  },
  {
   "cell_type": "markdown",
   "metadata": {},
   "source": [
    "## Topic distribution across documents"
   ]
  },
  {
   "cell_type": "code",
   "execution_count": 18,
   "metadata": {},
   "outputs": [
    {
     "data": {
      "text/html": [
       "<div>\n",
       "<style scoped>\n",
       "    .dataframe tbody tr th:only-of-type {\n",
       "        vertical-align: middle;\n",
       "    }\n",
       "\n",
       "    .dataframe tbody tr th {\n",
       "        vertical-align: top;\n",
       "    }\n",
       "\n",
       "    .dataframe thead th {\n",
       "        text-align: right;\n",
       "    }\n",
       "</style>\n",
       "<table border=\"1\" class=\"dataframe\">\n",
       "  <thead>\n",
       "    <tr style=\"text-align: right;\">\n",
       "      <th></th>\n",
       "      <th>Dominant_Topic</th>\n",
       "      <th>Topic_Keywords</th>\n",
       "      <th>Num_Documents</th>\n",
       "      <th>Perc_Documents</th>\n",
       "    </tr>\n",
       "  </thead>\n",
       "  <tbody>\n",
       "    <tr>\n",
       "      <th>0.0</th>\n",
       "      <td>1.0</td>\n",
       "      <td>error, log, registered, password, number, admi...</td>\n",
       "      <td>17734.0</td>\n",
       "      <td>0.3653</td>\n",
       "    </tr>\n",
       "    <tr>\n",
       "      <th>1.0</th>\n",
       "      <td>2.0</td>\n",
       "      <td>error, manager, issue, friday, tuesday, thursd...</td>\n",
       "      <td>7289.0</td>\n",
       "      <td>0.1501</td>\n",
       "    </tr>\n",
       "    <tr>\n",
       "      <th>2.0</th>\n",
       "      <td>0.0</td>\n",
       "      <td>access, issue, issues, en, working, message, s...</td>\n",
       "      <td>23526.0</td>\n",
       "      <td>0.4846</td>\n",
       "    </tr>\n",
       "    <tr>\n",
       "      <th>3.0</th>\n",
       "      <td>1.0</td>\n",
       "      <td>error, log, registered, password, number, admi...</td>\n",
       "      <td>NaN</td>\n",
       "      <td>NaN</td>\n",
       "    </tr>\n",
       "    <tr>\n",
       "      <th>4.0</th>\n",
       "      <td>2.0</td>\n",
       "      <td>error, manager, issue, friday, tuesday, thursd...</td>\n",
       "      <td>NaN</td>\n",
       "      <td>NaN</td>\n",
       "    </tr>\n",
       "    <tr>\n",
       "      <th>...</th>\n",
       "      <td>...</td>\n",
       "      <td>...</td>\n",
       "      <td>...</td>\n",
       "      <td>...</td>\n",
       "    </tr>\n",
       "    <tr>\n",
       "      <th>48544.0</th>\n",
       "      <td>0.0</td>\n",
       "      <td>access, issue, issues, en, working, message, s...</td>\n",
       "      <td>NaN</td>\n",
       "      <td>NaN</td>\n",
       "    </tr>\n",
       "    <tr>\n",
       "      <th>48545.0</th>\n",
       "      <td>2.0</td>\n",
       "      <td>error, manager, issue, friday, tuesday, thursd...</td>\n",
       "      <td>NaN</td>\n",
       "      <td>NaN</td>\n",
       "    </tr>\n",
       "    <tr>\n",
       "      <th>48546.0</th>\n",
       "      <td>0.0</td>\n",
       "      <td>access, issue, issues, en, working, message, s...</td>\n",
       "      <td>NaN</td>\n",
       "      <td>NaN</td>\n",
       "    </tr>\n",
       "    <tr>\n",
       "      <th>48547.0</th>\n",
       "      <td>2.0</td>\n",
       "      <td>error, manager, issue, friday, tuesday, thursd...</td>\n",
       "      <td>NaN</td>\n",
       "      <td>NaN</td>\n",
       "    </tr>\n",
       "    <tr>\n",
       "      <th>48548.0</th>\n",
       "      <td>0.0</td>\n",
       "      <td>access, issue, issues, en, working, message, s...</td>\n",
       "      <td>NaN</td>\n",
       "      <td>NaN</td>\n",
       "    </tr>\n",
       "  </tbody>\n",
       "</table>\n",
       "<p>48549 rows × 4 columns</p>\n",
       "</div>"
      ],
      "text/plain": [
       "         Dominant_Topic                                     Topic_Keywords  \\\n",
       "0.0                 1.0  error, log, registered, password, number, admi...   \n",
       "1.0                 2.0  error, manager, issue, friday, tuesday, thursd...   \n",
       "2.0                 0.0  access, issue, issues, en, working, message, s...   \n",
       "3.0                 1.0  error, log, registered, password, number, admi...   \n",
       "4.0                 2.0  error, manager, issue, friday, tuesday, thursd...   \n",
       "...                 ...                                                ...   \n",
       "48544.0             0.0  access, issue, issues, en, working, message, s...   \n",
       "48545.0             2.0  error, manager, issue, friday, tuesday, thursd...   \n",
       "48546.0             0.0  access, issue, issues, en, working, message, s...   \n",
       "48547.0             2.0  error, manager, issue, friday, tuesday, thursd...   \n",
       "48548.0             0.0  access, issue, issues, en, working, message, s...   \n",
       "\n",
       "         Num_Documents  Perc_Documents  \n",
       "0.0            17734.0          0.3653  \n",
       "1.0             7289.0          0.1501  \n",
       "2.0            23526.0          0.4846  \n",
       "3.0                NaN             NaN  \n",
       "4.0                NaN             NaN  \n",
       "...                ...             ...  \n",
       "48544.0            NaN             NaN  \n",
       "48545.0            NaN             NaN  \n",
       "48546.0            NaN             NaN  \n",
       "48547.0            NaN             NaN  \n",
       "48548.0            NaN             NaN  \n",
       "\n",
       "[48549 rows x 4 columns]"
      ]
     },
     "execution_count": 18,
     "metadata": {},
     "output_type": "execute_result"
    }
   ],
   "source": [
    "# Number of Documents for Each Topic\n",
    "topic_counts = df_topic_sents_keywords['Dominant_Topic'].value_counts()\n",
    "\n",
    "# Percentage of Documents for Each Topic\n",
    "topic_contribution = round(topic_counts/topic_counts.sum(), 4)\n",
    "\n",
    "# Topic Number and Keywords\n",
    "topic_num_keywords = df_topic_sents_keywords[['Dominant_Topic', 'Topic_Keywords']]\n",
    "\n",
    "# Concatenate Column wise\n",
    "df_dominant_topics = pd.concat([topic_num_keywords, topic_counts, topic_contribution], axis=1)\n",
    "\n",
    "# Change Column names\n",
    "df_dominant_topics.columns = ['Dominant_Topic', 'Topic_Keywords', 'Num_Documents', 'Perc_Documents']\n",
    "\n",
    "# Show\n",
    "df_dominant_topics"
   ]
  },
  {
   "cell_type": "code",
   "execution_count": 19,
   "metadata": {},
   "outputs": [],
   "source": [
    "df_dominant_topics.to_csv('alltickets_topics.csv')"
   ]
  },
  {
   "cell_type": "code",
   "execution_count": null,
   "metadata": {},
   "outputs": [],
   "source": []
  }
 ],
 "metadata": {
  "colab": {
   "authorship_tag": "ABX9TyM0Zc2kBcQUrS/1SwHJ7iyx",
   "collapsed_sections": [],
   "name": "Capstone Project (Machine Learning Models)- Automatic Ticket Assignment.ipynb",
   "provenance": []
  },
  "kernelspec": {
   "display_name": "Python 3",
   "language": "python",
   "name": "python3"
  },
  "language_info": {
   "codemirror_mode": {
    "name": "ipython",
    "version": 3
   },
   "file_extension": ".py",
   "mimetype": "text/x-python",
   "name": "python",
   "nbconvert_exporter": "python",
   "pygments_lexer": "ipython3",
   "version": "3.7.6"
  }
 },
 "nbformat": 4,
 "nbformat_minor": 1
}
