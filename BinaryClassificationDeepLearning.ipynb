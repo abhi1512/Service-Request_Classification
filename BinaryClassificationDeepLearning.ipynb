{
 "cells": [
  {
   "cell_type": "markdown",
   "metadata": {},
   "source": [
    "# Downloading libraries"
   ]
  },
  {
   "cell_type": "code",
   "execution_count": 1,
   "metadata": {},
   "outputs": [],
   "source": [
    "# import the necessary packages\n",
    "\n",
    "#!pip install imutils\n",
    "#!pip install opencv-python\n",
    "#!pip install sklearn\n",
    "#!pip install numpy\n",
    "#!pip install nltk\n",
    "#!pip install pathlib\n",
    "#!pip install seaborn\n",
    "#!pip install imblearn\n",
    "#!pip install tensorflow\n"
   ]
  },
  {
   "cell_type": "markdown",
   "metadata": {},
   "source": [
    "# Import the necessary packages"
   ]
  },
  {
   "cell_type": "code",
   "execution_count": 2,
   "metadata": {
    "colab": {
     "base_uri": "https://localhost:8080/"
    },
    "id": "w4mTZQQqwaT1",
    "outputId": "93cee57f-9305-45ca-9926-2fc81d31f6a7",
    "scrolled": true
   },
   "outputs": [
    {
     "name": "stderr",
     "output_type": "stream",
     "text": [
      "Using TensorFlow backend.\n",
      "[nltk_data] Downloading package stopwords to\n",
      "[nltk_data]     C:\\Users\\Raj\\AppData\\Roaming\\nltk_data...\n",
      "[nltk_data]   Package stopwords is already up-to-date!\n",
      "[nltk_data] Downloading package wordnet to\n",
      "[nltk_data]     C:\\Users\\Raj\\AppData\\Roaming\\nltk_data...\n",
      "[nltk_data]   Package wordnet is already up-to-date!\n",
      "[nltk_data] Downloading package vader_lexicon to\n",
      "[nltk_data]     C:\\Users\\Raj\\AppData\\Roaming\\nltk_data...\n",
      "[nltk_data]   Package vader_lexicon is already up-to-date!\n",
      "[nltk_data] Downloading package averaged_perceptron_tagger to\n",
      "[nltk_data]     C:\\Users\\Raj\\AppData\\Roaming\\nltk_data...\n",
      "[nltk_data]   Package averaged_perceptron_tagger is already up-to-\n",
      "[nltk_data]       date!\n",
      "[nltk_data] Downloading package movie_reviews to\n",
      "[nltk_data]     C:\\Users\\Raj\\AppData\\Roaming\\nltk_data...\n",
      "[nltk_data]   Package movie_reviews is already up-to-date!\n",
      "[nltk_data] Downloading package punkt to\n",
      "[nltk_data]     C:\\Users\\Raj\\AppData\\Roaming\\nltk_data...\n",
      "[nltk_data]   Package punkt is already up-to-date!\n",
      "[nltk_data] Downloading package conll2000 to\n",
      "[nltk_data]     C:\\Users\\Raj\\AppData\\Roaming\\nltk_data...\n",
      "[nltk_data]   Package conll2000 is already up-to-date!\n",
      "[nltk_data] Downloading package brown to\n",
      "[nltk_data]     C:\\Users\\Raj\\AppData\\Roaming\\nltk_data...\n",
      "[nltk_data]   Package brown is already up-to-date!\n"
     ]
    }
   ],
   "source": [
    "    import datetime as dt\n",
    "    import matplotlib.pyplot as plt\n",
    "    import nltk\n",
    "    import numpy as np\n",
    "    import os\n",
    "    import pandas as pd \n",
    "    import pathlib\n",
    "    import re\n",
    "    import seaborn as sns\n",
    "    import string\n",
    "    import time\n",
    "    import warnings\n",
    "    \n",
    "    from imblearn.over_sampling import RandomOverSampler\n",
    "    from imblearn.over_sampling import SMOTE\n",
    "    from imblearn.under_sampling import NearMiss\n",
    "    from imblearn.under_sampling import RandomUnderSampler\n",
    "    from imblearn.under_sampling import TomekLinks\n",
    "    \n",
    "    import tensorflow.compat.v1 as tf\n",
    "    import tensorflow as tf\n",
    "    from tensorflow import keras\n",
    "    from tensorflow.keras import layers\n",
    "    from tensorflow.keras.layers import Embedding\n",
    "    from tensorflow.keras.layers.experimental.preprocessing import TextVectorization\n",
    "    from tensorflow.keras.optimizers import SGD\n",
    "    \n",
    "    from keras import callbacks\n",
    "    from keras.layers import Dense, Embedding, LSTM, GRU, Flatten,GlobalMaxPooling1D, Input\n",
    "    from keras.layers.core import Activation, Dropout, Dense\n",
    "    from keras.layers.embeddings import Embedding\n",
    "    from keras.models import Sequential\n",
    "    \n",
    "    from nltk.corpus import stopwords\n",
    "    from nltk.tokenize import sent_tokenize, word_tokenize\n",
    "    from numpy import array\n",
    "    from sklearn import metrics\n",
    "    from sklearn.metrics import f1_score, confusion_matrix, accuracy_score\n",
    "    from sklearn.model_selection import train_test_split\n",
    "    from sklearn.utils import class_weight\n",
    "    \n",
    "    plt.style.use('ggplot')\n",
    "    \n",
    "    # ignoring all the warnings\n",
    "    #warnings.filterwarnings(\"ignore\", category=DeprecationWarning)\n",
    "    warnings.filterwarnings(\"ignore\")\n",
    "\n",
    "    # downloading stopwords corpus\n",
    "    nltk.download('stopwords')\n",
    "    nltk.download('wordnet')\n",
    "    nltk.download('vader_lexicon')\n",
    "    nltk.download('averaged_perceptron_tagger')\n",
    "    nltk.download('movie_reviews')\n",
    "    nltk.download('punkt')\n",
    "    nltk.download('conll2000')\n",
    "    nltk.download('brown')\n",
    "    stopwords = set(stopwords.words(\"english\"))\n",
    "    \n",
    "    # for showing all the plots inline\n",
    "    %matplotlib inline"
   ]
  },
  {
   "cell_type": "markdown",
   "metadata": {},
   "source": [
    "# Common Functions"
   ]
  },
  {
   "cell_type": "code",
   "execution_count": 3,
   "metadata": {},
   "outputs": [
    {
     "name": "stdout",
     "output_type": "stream",
     "text": [
      "Automatically created module for IPython interactive environment\n"
     ]
    }
   ],
   "source": [
    "# function to get unique values \n",
    "def unique(list1):\n",
    "    \n",
    "    global unique_list\n",
    "          \n",
    "    # intilize a null list \n",
    "    unique_list = [] \n",
    "      \n",
    "    # traverse for all elements \n",
    "    for x in list1: \n",
    "        # check if exists in unique_list or not \n",
    "        if x not in unique_list: \n",
    "            unique_list.append(x) \n",
    "    # print list \n",
    "    #for x in unique_list: \n",
    "        #print(x)\n",
    "        \n",
    "\n",
    "import matplotlib.pyplot as plt\n",
    "plt.style.use('ggplot')\n",
    "\n",
    "def plot_history(history):\n",
    "        \n",
    "    acc = history.history['accuracy']\n",
    "    val_acc = history.history['val_accuracy']\n",
    "    loss = history.history['loss']\n",
    "    val_loss = history.history['val_loss']\n",
    "    \n",
    "    x = range(1, len(acc) + 1)\n",
    "\n",
    "    plt.figure(figsize=(12, 5))\n",
    "    plt.subplot(1, 2, 1)\n",
    "    plt.plot(x, acc, 'b', label='Training Accuracy')\n",
    "    plt.plot(x, val_acc, 'r', label='Validation Accuracy')\n",
    "    plt.title('Model Accuracy')\n",
    "    plt.legend()\n",
    "    plt.subplot(1, 2, 2)\n",
    "    plt.plot(x, loss, 'b', label='Training loss')\n",
    "    plt.plot(x, val_loss, 'r', label='Validation loss')\n",
    "    plt.title('Model Loss')\n",
    "    plt.legend()\n",
    "\n",
    "\n",
    "from collections import Counter\n",
    "from imblearn.datasets import make_imbalance\n",
    "from imblearn.over_sampling import RandomOverSampler\n",
    "from imblearn.under_sampling import RandomUnderSampler\n",
    "from imblearn.under_sampling import TomekLinks\n",
    "print(__doc__)\n",
    "def plot_pie(y):\n",
    "    target_stats = Counter(y)\n",
    "    labels = list(target_stats.keys())\n",
    "    sizes = list(target_stats.values())\n",
    "    explode = tuple([0.1] * len(target_stats))\n",
    "\n",
    "    def make_autopct(values):\n",
    "        def my_autopct(pct):\n",
    "            total = sum(values)\n",
    "            val = int(round(pct * total / 100.0))\n",
    "            return '{p:.2f}%  ({v:d})'.format(p=pct, v=val)\n",
    "        return my_autopct\n",
    "\n",
    "    fig, ax = plt.subplots()\n",
    "    ax.pie(sizes, explode=explode, labels=labels, shadow=True,\n",
    "           autopct=make_autopct(sizes))\n",
    "    ax.axis('equal')\n",
    "    "
   ]
  },
  {
   "cell_type": "markdown",
   "metadata": {},
   "source": [
    "# Data Exploration"
   ]
  },
  {
   "cell_type": "code",
   "execution_count": 4,
   "metadata": {
    "colab": {
     "base_uri": "https://localhost:8080/"
    },
    "id": "SuzaeD1cwaT2",
    "outputId": "990ff0af-f275-4d71-adf7-a7951d0ab37f"
   },
   "outputs": [
    {
     "data": {
      "image/png": "[encoded data removed]",
      "text/plain": [
       "<Figure size 432x288 with 1 Axes>"
      ]
     },
     "metadata": {},
     "output_type": "display_data"
    }
   ],
   "source": [
    "all_ticket_df=pd.read_csv(\"all_tickets_processed_2topics.csv\",\n",
    "                          encoding='utf-8')\n",
    "\n",
    "all_ticket_df.head()\n",
    "\n",
    "labelData = all_ticket_df['Target']\n",
    "data = all_ticket_df['body']\n",
    "\n",
    "plot_pie(labelData)\n"
   ]
  },
  {
   "cell_type": "markdown",
   "metadata": {},
   "source": [
    "# Training and Test DataSets"
   ]
  },
  {
   "cell_type": "code",
   "execution_count": 5,
   "metadata": {
    "colab": {
     "base_uri": "https://localhost:8080/"
    },
    "id": "VTS-4222waT3",
    "outputId": "0bfbad0e-98e8-4958-af17-c6ee2cb245f6"
   },
   "outputs": [
    {
     "name": "stdout",
     "output_type": "stream",
     "text": [
      "Size of training data is- (38839,)\n",
      "Size of training labels is- 38839\n",
      "Size of test data is- (9710,)\n",
      "Size of test labels is- 9710\n"
     ]
    }
   ],
   "source": [
    "from numpy import array\n",
    "import tensorflow as tf\n",
    "from tensorflow.keras.preprocessing.text import one_hot\n",
    "from tensorflow.keras.preprocessing.sequence import pad_sequences\n",
    "from tensorflow.keras.models import Sequential\n",
    "from tensorflow.keras.layers import Dense\n",
    "from tensorflow.keras.layers import Flatten\n",
    "from tensorflow.keras.layers import Embedding\n",
    "\n",
    "# Split dataset into training and testing data\n",
    "train_data, test_data, train_labels, test_labels = train_test_split(\n",
    "        data, labelData, test_size=0.2\n",
    "    )  # split data to train/test sets with 80:20 ratio\n",
    "\n",
    "print ('Size of training data is-',train_data.shape)\n",
    "print ('Size of training labels is-',len(train_labels))\n",
    "print ('Size of test data is-',test_data.shape)\n",
    "print ('Size of test labels is-',len(test_labels))"
   ]
  },
  {
   "cell_type": "markdown",
   "metadata": {},
   "source": [
    "# Load Embedding"
   ]
  },
  {
   "cell_type": "code",
   "execution_count": 6,
   "metadata": {
    "colab": {
     "base_uri": "https://localhost:8080/"
    },
    "id": "58v4dgPnwaT3",
    "outputId": "5888c3b3-f658-42e4-9200-2fcc6c92f2c4"
   },
   "outputs": [
    {
     "name": "stdout",
     "output_type": "stream",
     "text": [
      "Size of training data is- 38839\n",
      "Size of training labels is- 38839\n",
      "Size of test data is- 9710\n",
      "Size of test labels is- 9710\n"
     ]
    }
   ],
   "source": [
    "# load the whole embedding into memory\n",
    "from tensorflow.keras.preprocessing.text import Tokenizer\n",
    "tokenizer = Tokenizer(num_words=100000)\n",
    "tokenizer.fit_on_texts(train_data)\n",
    "X_train = tokenizer.texts_to_sequences(train_data)\n",
    "X_test = tokenizer.texts_to_sequences(test_data)\n",
    "vocab_length = len(tokenizer.word_index) + 1\n",
    "\n",
    "print ('Size of training data is-',len(X_train))\n",
    "print ('Size of training labels is-',len(train_labels))\n",
    "print ('Size of test data is-',len(X_test))\n",
    "print ('Size of test labels is-',len(test_labels))"
   ]
  },
  {
   "cell_type": "code",
   "execution_count": 7,
   "metadata": {
    "colab": {
     "base_uri": "https://localhost:8080/"
    },
    "id": "o6uPAjkhwaT3",
    "outputId": "fd763124-f4d8-4417-89fc-4d3ed57e61c8"
   },
   "outputs": [
    {
     "name": "stdout",
     "output_type": "stream",
     "text": [
      "980\n"
     ]
    }
   ],
   "source": [
    "corpus = all_ticket_df['body'].to_list()\n",
    "word_count = lambda sentence: len(word_tokenize(sentence))\n",
    "longest_sentence = max(corpus, key=word_count)\n",
    "length_long_sentence = len(word_tokenize(longest_sentence))\n",
    "\n",
    "print(length_long_sentence)"
   ]
  },
  {
   "cell_type": "code",
   "execution_count": 8,
   "metadata": {
    "colab": {
     "base_uri": "https://localhost:8080/"
    },
    "id": "3RwNxLVKwaT4",
    "outputId": "282c79ce-9fde-4a5b-f2bf-7043690c17ac"
   },
   "outputs": [
    {
     "name": "stdout",
     "output_type": "stream",
     "text": [
      "Size of training data is- 38839\n",
      "Size of training labels is- 38839\n",
      "Size of test data is- 9710\n",
      "Size of test labels is- 9710\n"
     ]
    }
   ],
   "source": [
    "#padded_sentences = pad_sequences(embedded_sentences, length_long_sentence, padding='post')\n",
    "X_train_pedd = pad_sequences(X_train, length_long_sentence, padding='post')\n",
    "X_test_pedd = pad_sequences(X_test, length_long_sentence, padding='post')\n",
    "\n",
    "print ('Size of training data is-',len(X_train_pedd))\n",
    "print ('Size of training labels is-',len(train_labels))\n",
    "print ('Size of test data is-',len(X_test_pedd))\n",
    "print ('Size of test labels is-',len(test_labels))\n",
    "\n"
   ]
  },
  {
   "cell_type": "markdown",
   "metadata": {},
   "source": [
    "# Build Model "
   ]
  },
  {
   "cell_type": "code",
   "execution_count": 9,
   "metadata": {
    "colab": {
     "base_uri": "https://localhost:8080/"
    },
    "id": "4QhMVL41waT4",
    "outputId": "3ea8c064-56bd-468d-fbee-3cc67d74148d",
    "scrolled": true
   },
   "outputs": [
    {
     "name": "stdout",
     "output_type": "stream",
     "text": [
      "Model: \"sequential\"\n",
      "_________________________________________________________________\n",
      "Layer (type)                 Output Shape              Param #   \n",
      "=================================================================\n",
      "embedding (Embedding)        (None, 980, 100)          1159500   \n",
      "_________________________________________________________________\n",
      "flatten (Flatten)            (None, 98000)             0         \n",
      "_________________________________________________________________\n",
      "dense (Dense)                (None, 10)                980010    \n",
      "_________________________________________________________________\n",
      "dense_1 (Dense)              (None, 1)                 11        \n",
      "=================================================================\n",
      "Total params: 2,139,521\n",
      "Trainable params: 2,139,521\n",
      "Non-trainable params: 0\n",
      "_________________________________________________________________\n"
     ]
    }
   ],
   "source": [
    "# define model\n",
    "from tensorflow.keras import layers\n",
    "embedding_dim = 100\n",
    "\n",
    "model = Sequential()\n",
    "model.add(layers.Embedding(input_dim=vocab_length, \n",
    "                           output_dim=embedding_dim, \n",
    "                           input_length=length_long_sentence,\n",
    "                           trainable=True))\n",
    "model.add(layers.Flatten())\n",
    "model.add(layers.Dense(10, activation='relu'))\n",
    "model.add(layers.Dense(1, activation='sigmoid'))\n",
    "\n",
    "\n",
    "#Learning Rate\n",
    "lr_schedule = keras.optimizers.schedules.ExponentialDecay(\n",
    "    initial_learning_rate=0.01,\n",
    "    decay_steps=10000,\n",
    "    decay_rate=0.9\n",
    "    )\n",
    "\n",
    "opt = tf.keras.optimizers.SGD(learning_rate=lr_schedule, momentum=0.9)\n",
    "\n",
    "model.compile(optimizer=opt, loss='binary_crossentropy', metrics=['accuracy'])\n",
    "\n",
    "model.summary()"
   ]
  },
  {
   "cell_type": "markdown",
   "metadata": {},
   "source": [
    "# Training Model"
   ]
  },
  {
   "cell_type": "code",
   "execution_count": 10,
   "metadata": {
    "colab": {
     "base_uri": "https://localhost:8080/"
    },
    "id": "tiEBwHMewaT5",
    "outputId": "4d0f2b0c-cb66-4342-f735-2313a7a9cf34"
   },
   "outputs": [
    {
     "name": "stdout",
     "output_type": "stream",
     "text": [
      "Size of training data is- 38839\n",
      "Size of training labels is- 38839\n",
      "Size of test data is- 9710\n",
      "Size of test labels is- 9710\n",
      "Train on 38839 samples, validate on 9710 samples\n",
      "Epoch 1/10\n",
      "38839/38839 [==============================] - 29s 743us/sample - loss: 0.5477 - accuracy: 0.7151 - val_loss: 0.4064 - val_accuracy: 0.8240\n",
      "Epoch 2/10\n",
      "38839/38839 [==============================] - 27s 699us/sample - loss: 0.2911 - accuracy: 0.8740 - val_loss: 0.2834 - val_accuracy: 0.8726\n",
      "Epoch 3/10\n",
      "38839/38839 [==============================] - 27s 698us/sample - loss: 0.2257 - accuracy: 0.9047 - val_loss: 0.2342 - val_accuracy: 0.8958\n",
      "Epoch 4/10\n",
      "38839/38839 [==============================] - 27s 701us/sample - loss: 0.1944 - accuracy: 0.9177 - val_loss: 0.2234 - val_accuracy: 0.9162\n",
      "Epoch 5/10\n",
      "38839/38839 [==============================] - 27s 702us/sample - loss: 0.1653 - accuracy: 0.9327 - val_loss: 0.1920 - val_accuracy: 0.9220\n",
      "Epoch 6/10\n",
      "38839/38839 [==============================] - 30s 761us/sample - loss: 0.1506 - accuracy: 0.9392 - val_loss: 0.1984 - val_accuracy: 0.9178\n",
      "Epoch 7/10\n",
      "38839/38839 [==============================] - 27s 702us/sample - loss: 0.1313 - accuracy: 0.9471 - val_loss: 0.1892 - val_accuracy: 0.9237\n",
      "Epoch 8/10\n",
      "38839/38839 [==============================] - 27s 708us/sample - loss: 0.1070 - accuracy: 0.9565 - val_loss: 0.1971 - val_accuracy: 0.9211\n",
      "Epoch 9/10\n",
      "38839/38839 [==============================] - 28s 709us/sample - loss: 0.0784 - accuracy: 0.9697 - val_loss: 0.2032 - val_accuracy: 0.9256\n"
     ]
    }
   ],
   "source": [
    "# fit the model\n",
    "\n",
    "y_train = train_labels \n",
    "y_test = test_labels\n",
    "\n",
    "print ('Size of training data is-',len(X_train_pedd))\n",
    "print ('Size of training labels is-',len(y_train))\n",
    "print ('Size of test data is-',len(X_test_pedd))\n",
    "print ('Size of test labels is-',len(y_test))\n",
    "\n",
    "#class_weight = class_weight.compute_class_weight('balanced', np.unique(y_train),y_train)\n",
    "\n",
    "#Early Stopping\n",
    "earlystopping = callbacks.EarlyStopping(monitor =\"val_loss\",mode =\"min\", patience = 2,restore_best_weights = True) \n",
    "\n",
    "\n",
    "#Model Training/ Fitting\n",
    "history = model.fit(X_train_pedd, y_train,\n",
    "                    epochs=10,\n",
    "                    verbose=True,\n",
    "                    validation_data=(X_test_pedd, y_test), \n",
    "                    batch_size=32,\n",
    "                    #class_weight=class_weight,\n",
    "                    callbacks =[earlystopping])\n",
    "\n",
    "\n"
   ]
  },
  {
   "cell_type": "markdown",
   "metadata": {},
   "source": [
    "# Evaluating Model Performance"
   ]
  },
  {
   "cell_type": "code",
   "execution_count": 11,
   "metadata": {
    "colab": {
     "base_uri": "https://localhost:8080/",
     "height": 388
    },
    "id": "ZgCTDEmmwaT5",
    "outputId": "7ff7039f-500b-40ae-bb83-91f476d56433"
   },
   "outputs": [
    {
     "name": "stdout",
     "output_type": "stream",
     "text": [
      "Training Accuracy: 96.8073\n",
      "Testing Accuracy:  92.3687\n"
     ]
    },
    {
     "data": {
      "image/png": "[encoded data removed]",
      "text/plain": [
       "<Figure size 864x360 with 2 Axes>"
      ]
     },
     "metadata": {},
     "output_type": "display_data"
    }
   ],
   "source": [
    "# evaluate the model\n",
    "\n",
    "loss, accuracy = model.evaluate(X_train_pedd, y_train, verbose=False)\n",
    "print(\"Training Accuracy: {:.4f}\".format(accuracy*100))\n",
    "\n",
    "loss, accuracy = model.evaluate(X_test_pedd, y_test, verbose=False)\n",
    "print(\"Testing Accuracy:  {:.4f}\".format(accuracy*100))\n",
    "\n",
    "#print(history.history.keys())\n",
    "plot_history(history)"
   ]
  },
  {
   "cell_type": "markdown",
   "metadata": {},
   "source": [
    "# Prediction"
   ]
  },
  {
   "cell_type": "code",
   "execution_count": 12,
   "metadata": {
    "colab": {
     "base_uri": "https://localhost:8080/"
    },
    "id": "yH3Iw4qfwaT5",
    "outputId": "d822b849-0f09-450b-8114-11bd063e7c12"
   },
   "outputs": [
    {
     "data": {
      "image/png": "[encoded data removed]",
      "text/plain": [
       "<Figure size 720x720 with 2 Axes>"
      ]
     },
     "metadata": {},
     "output_type": "display_data"
    }
   ],
   "source": [
    "#Predict\n",
    "\n",
    "y_pred = model.predict(X_test_pedd)\n",
    "y_pred_bool = np.round(y_pred)\n",
    "conf_mat = confusion_matrix(y_test, y_pred_bool)\n",
    "\n",
    "\n",
    "\n",
    "fig, ax = plt.subplots(figsize=(10,10))\n",
    "sns.heatmap(conf_mat, annot=True,fmt='g',xticklabels=pd.Series(all_ticket_df['Target'].unique()).sort_values(), \n",
    "            yticklabels=pd.Series(all_ticket_df['Target'].unique()).sort_values(ascending=True))\n",
    "\n",
    "plt.title('Confusion matrix')\n",
    "plt.ylabel('Actual')\n",
    "plt.xlabel('Predicted')\n",
    "plt.show()"
   ]
  },
  {
   "cell_type": "markdown",
   "metadata": {},
   "source": [
    "# Clssification Report"
   ]
  },
  {
   "cell_type": "code",
   "execution_count": 13,
   "metadata": {
    "id": "1ZFVNObawaT6"
   },
   "outputs": [
    {
     "name": "stdout",
     "output_type": "stream",
     "text": [
      "              precision    recall  f1-score   support\n",
      "\n",
      "           0       0.87      0.90      0.89      3245\n",
      "           1       0.95      0.93      0.94      6465\n",
      "\n",
      "    accuracy                           0.92      9710\n",
      "   macro avg       0.91      0.92      0.92      9710\n",
      "weighted avg       0.92      0.92      0.92      9710\n",
      "\n"
     ]
    }
   ],
   "source": [
    "target_name = unique(all_ticket_df['Target'])\n",
    "print(metrics.classification_report(y_test, y_pred_bool, target_names=target_name))\n"
   ]
  },
  {
   "cell_type": "code",
   "execution_count": null,
   "metadata": {},
   "outputs": [],
   "source": []
  }
 ],
 "metadata": {
  "accelerator": "GPU",
  "colab": {
   "name": "BinaryClassificationDeepLearning.ipynb",
   "provenance": []
  },
  "kernelspec": {
   "display_name": "Python 3",
   "language": "python",
   "name": "python3"
  },
  "language_info": {
   "codemirror_mode": {
    "name": "ipython",
    "version": 3
   },
   "file_extension": ".py",
   "mimetype": "text/x-python",
   "name": "python",
   "nbconvert_exporter": "python",
   "pygments_lexer": "ipython3",
   "version": "3.7.9"
  }
 },
 "nbformat": 4,
 "nbformat_minor": 1
}
