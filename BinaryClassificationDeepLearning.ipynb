{
  "nbformat": 4,
  "nbformat_minor": 0,
  "metadata": {
    "kernelspec": {
      "display_name": "Python 3",
      "language": "python",
      "name": "python3"
    },
    "language_info": {
      "codemirror_mode": {
        "name": "ipython",
        "version": 3
      },
      "file_extension": ".py",
      "mimetype": "text/x-python",
      "name": "python",
      "nbconvert_exporter": "python",
      "pygments_lexer": "ipython3",
      "version": "3.7.6"
    },
    "colab": {
      "name": "BinaryClassificationDeepLearning.ipynb",
      "provenance": []
    },
    "accelerator": "GPU"
  },
  "cells": [
    {
      "cell_type": "code",
      "metadata": {
        "scrolled": true,
        "id": "w4mTZQQqwaT1",
        "outputId": "edcb31b2-5fc2-45a5-fb45-47df859468a1",
        "colab": {
          "base_uri": "https://localhost:8080/"
        }
      },
      "source": [
        "from __future__ import print_function\n",
        "import os\n",
        "try:\n",
        "    from urllib.request import urlretrieve\n",
        "except ImportError:\n",
        "    from urllib import urlretrieve\n",
        "\n",
        "import numpy as np \n",
        "import pandas as pd \n",
        "import matplotlib.pyplot as plt\n",
        "import seaborn as sns\n",
        "import re\n",
        "import time\n",
        "import string\n",
        "import warnings\n",
        "\n",
        "# for all NLP related operations on text\n",
        "import nltk\n",
        "from nltk.corpus import stopwords\n",
        "from nltk.tokenize import sent_tokenize, word_tokenize\n",
        "from nltk.sentiment.vader import SentimentIntensityAnalyzer\n",
        "from nltk.stem import WordNetLemmatizer\n",
        "from nltk.stem.porter import *\n",
        "from nltk.classify import NaiveBayesClassifier\n",
        "#from wordcloud import WordCloud\n",
        "\n",
        "from sklearn.feature_extraction.text import CountVectorizer, TfidfVectorizer\n",
        "from sklearn.linear_model import LogisticRegression\n",
        "from sklearn.model_selection import train_test_split\n",
        "from sklearn.metrics import f1_score, confusion_matrix, accuracy_score\n",
        "from sklearn.svm import SVC\n",
        "from sklearn.naive_bayes import GaussianNB\n",
        "from sklearn import preprocessing\n",
        "\n",
        "import datetime as dt\n",
        "\n",
        "\n",
        "# To identify the sentiment of text\n",
        "#from textblob import TextBlob\n",
        "#from textblob.sentiments import NaiveBayesAnalyzer\n",
        "#from textblob.np_extractors import ConllExtractor\n",
        "\n",
        "# ignoring all the warnings\n",
        "warnings.filterwarnings(\"ignore\", category=DeprecationWarning)\n",
        "\n",
        "# downloading stopwords corpus\n",
        "nltk.download('stopwords')\n",
        "nltk.download('wordnet')\n",
        "nltk.download('vader_lexicon')\n",
        "nltk.download('averaged_perceptron_tagger')\n",
        "nltk.download('movie_reviews')\n",
        "nltk.download('punkt')\n",
        "nltk.download('conll2000')\n",
        "nltk.download('brown')\n",
        "stopwords = set(stopwords.words(\"english\"))\n",
        "\n",
        "# for showing all the plots inline\n",
        "%matplotlib inline\n"
      ],
      "execution_count": 1,
      "outputs": [
        {
          "output_type": "stream",
          "text": [
            "/usr/local/lib/python3.6/dist-packages/nltk/twitter/__init__.py:20: UserWarning: The twython library has not been installed. Some functionality from the twitter package will not be available.\n",
            "  warnings.warn(\"The twython library has not been installed. \"\n"
          ],
          "name": "stderr"
        },
        {
          "output_type": "stream",
          "text": [
            "[nltk_data] Downloading package stopwords to /root/nltk_data...\n",
            "[nltk_data]   Unzipping corpora/stopwords.zip.\n",
            "[nltk_data] Downloading package wordnet to /root/nltk_data...\n",
            "[nltk_data]   Unzipping corpora/wordnet.zip.\n",
            "[nltk_data] Downloading package vader_lexicon to /root/nltk_data...\n",
            "[nltk_data] Downloading package averaged_perceptron_tagger to\n",
            "[nltk_data]     /root/nltk_data...\n",
            "[nltk_data]   Unzipping taggers/averaged_perceptron_tagger.zip.\n",
            "[nltk_data] Downloading package movie_reviews to /root/nltk_data...\n",
            "[nltk_data]   Unzipping corpora/movie_reviews.zip.\n",
            "[nltk_data] Downloading package punkt to /root/nltk_data...\n",
            "[nltk_data]   Unzipping tokenizers/punkt.zip.\n",
            "[nltk_data] Downloading package conll2000 to /root/nltk_data...\n",
            "[nltk_data]   Unzipping corpora/conll2000.zip.\n",
            "[nltk_data] Downloading package brown to /root/nltk_data...\n",
            "[nltk_data]   Unzipping corpora/brown.zip.\n"
          ],
          "name": "stdout"
        }
      ]
    },
    {
      "cell_type": "code",
      "metadata": {
        "id": "SuzaeD1cwaT2"
      },
      "source": [
        "all_ticket_df=pd.read_csv('all_ticketsnew.csv', encoding='utf-8')\n",
        "\n",
        "labelData = all_ticket_df['ticket_type']\n",
        "data = all_ticket_df['body']\n",
        "\n",
        "# Split dataset into training and testing data\n",
        "train_data, test_data, train_labels, test_labels = train_test_split(\n",
        "        data, labelData, test_size=0.2\n",
        "    )  # split data to train/test sets with 80:20 ratio\n"
      ],
      "execution_count": 4,
      "outputs": []
    },
    {
      "cell_type": "code",
      "metadata": {
        "id": "01UtQUGCxaS5"
      },
      "source": [
        "import tensorflow as tf\n"
      ],
      "execution_count": 6,
      "outputs": []
    },
    {
      "cell_type": "code",
      "metadata": {
        "id": "VTS-4222waT3"
      },
      "source": [
        "from numpy import array\n",
        "from tensorflow.keras.preprocessing.text import one_hot\n",
        "from tensorflow.keras.preprocessing.sequence import pad_sequences\n",
        "from tensorflow.keras.models import Sequential\n",
        "from tensorflow.keras.layers import Dense\n",
        "from tensorflow.keras.layers import Flatten\n",
        "from tensorflow.keras.layers import Embedding"
      ],
      "execution_count": 11,
      "outputs": []
    },
    {
      "cell_type": "code",
      "metadata": {
        "id": "58v4dgPnwaT3"
      },
      "source": [
        "# load the whole embedding into memory\n",
        "from tensorflow.keras.preprocessing.text import Tokenizer\n",
        "tokenizer = Tokenizer(num_words=100000)\n",
        "tokenizer.fit_on_texts(train_data)\n",
        "X_train = tokenizer.texts_to_sequences(train_data)\n",
        "X_test = tokenizer.texts_to_sequences(test_data)\n",
        "vocab_length = len(tokenizer.word_index) + 1"
      ],
      "execution_count": 12,
      "outputs": []
    },
    {
      "cell_type": "code",
      "metadata": {
        "id": "TpEHR7z5waT3"
      },
      "source": [
        "#from nltk.tokenize import word_tokenize\n",
        "#corpus = all_ticket_df['body'].to_list()\n",
        "#all_words = []\n",
        "#for sent in corpus:\n",
        "#    tokenize_word = word_tokenize(sent)\n",
        "#    for word in tokenize_word:\n",
        "#        all_words.append(word)\n",
        "\n",
        "#unique_words = set(all_words)\n",
        "#print(len(unique_words))\n",
        "#vocab_length =len(unique_words)"
      ],
      "execution_count": null,
      "outputs": []
    },
    {
      "cell_type": "code",
      "metadata": {
        "id": "o6uPAjkhwaT3",
        "outputId": "7863fa64-305c-40fd-db34-79e7f3b98534",
        "colab": {
          "base_uri": "https://localhost:8080/"
        }
      },
      "source": [
        "corpus = all_ticket_df['body'].to_list()\n",
        "word_count = lambda sentence: len(word_tokenize(sentence))\n",
        "longest_sentence = max(corpus, key=word_count)\n",
        "length_long_sentence = len(word_tokenize(longest_sentence))\n",
        "\n",
        "\n",
        "print(length_long_sentence)"
      ],
      "execution_count": 13,
      "outputs": [
        {
          "output_type": "stream",
          "text": [
            "952\n"
          ],
          "name": "stdout"
        }
      ]
    },
    {
      "cell_type": "code",
      "metadata": {
        "id": "3RwNxLVKwaT4"
      },
      "source": [
        "#padded_sentences = pad_sequences(embedded_sentences, length_long_sentence, padding='post')\n",
        "X_train_pedd = pad_sequences(X_train, length_long_sentence, padding='post')\n",
        "X_test_pedd = pad_sequences(X_test, length_long_sentence, padding='post')"
      ],
      "execution_count": 14,
      "outputs": []
    },
    {
      "cell_type": "code",
      "metadata": {
        "id": "ndIWUaIJyaET"
      },
      "source": [
        "import matplotlib.pyplot as plt\n",
        "plt.style.use('ggplot')\n",
        "\n",
        "def plot_history(history):\n",
        "        \n",
        "    acc = history.history['accuracy']\n",
        "    val_acc = history.history['val_accuracy']\n",
        "    loss = history.history['loss']\n",
        "    val_loss = history.history['val_loss']\n",
        "    \n",
        "    x = range(1, len(acc) + 1)\n",
        "\n",
        "    plt.figure(figsize=(12, 5))\n",
        "    plt.subplot(1, 2, 1)\n",
        "    plt.plot(x, acc, 'b', label='Training Accuracy')\n",
        "    plt.plot(x, val_acc, 'r', label='Validation Accuracy')\n",
        "    plt.title('Model Accuracy')\n",
        "    plt.legend()\n",
        "    plt.subplot(1, 2, 2)\n",
        "    plt.plot(x, loss, 'b', label='Training loss')\n",
        "    plt.plot(x, val_loss, 'r', label='Validation loss')\n",
        "    plt.title('Model Loss')\n",
        "    plt.legend()\n",
        "    "
      ],
      "execution_count": 20,
      "outputs": []
    },
    {
      "cell_type": "code",
      "metadata": {
        "scrolled": true,
        "id": "4QhMVL41waT4",
        "outputId": "cd2fb1b9-d950-4c18-c24c-08de86f90252",
        "colab": {
          "base_uri": "https://localhost:8080/"
        }
      },
      "source": [
        "# define model\n",
        "from tensorflow.keras import layers\n",
        "embedding_dim = 100\n",
        "\n",
        "model = Sequential()\n",
        "model.add(layers.Embedding(input_dim=vocab_length, \n",
        "                           output_dim=embedding_dim, \n",
        "                           input_length=length_long_sentence,\n",
        "                           trainable=True))\n",
        "model.add(layers.Flatten())\n",
        "model.add(layers.Dense(10, activation='relu'))\n",
        "model.add(layers.Dense(1, activation='sigmoid'))\n",
        "\n",
        "model.compile(optimizer='sgd', loss='binary_crossentropy', metrics=['accuracy'])\n",
        "#model.compile(optimizer='rmsprop', loss='categorical_crossentropy', metrics=['accuracy'])\n",
        "\n",
        "model.summary()"
      ],
      "execution_count": 16,
      "outputs": [
        {
          "output_type": "stream",
          "text": [
            "Model: \"sequential\"\n",
            "_________________________________________________________________\n",
            "Layer (type)                 Output Shape              Param #   \n",
            "=================================================================\n",
            "embedding (Embedding)        (None, 952, 100)          832600    \n",
            "_________________________________________________________________\n",
            "flatten (Flatten)            (None, 95200)             0         \n",
            "_________________________________________________________________\n",
            "dense (Dense)                (None, 10)                952010    \n",
            "_________________________________________________________________\n",
            "dense_1 (Dense)              (None, 1)                 11        \n",
            "=================================================================\n",
            "Total params: 1,784,621\n",
            "Trainable params: 1,784,621\n",
            "Non-trainable params: 0\n",
            "_________________________________________________________________\n"
          ],
          "name": "stdout"
        }
      ]
    },
    {
      "cell_type": "code",
      "metadata": {
        "id": "tiEBwHMewaT5",
        "outputId": "2c3e793f-9eda-4c02-c203-c2ae76a373c3",
        "colab": {
          "base_uri": "https://localhost:8080/"
        }
      },
      "source": [
        "# fit the model\n",
        "#history = model.fit(padded_sentences, all_ticket_df['ticket_type'], epochs=100, verbose=1)\n",
        "y_train = train_labels \n",
        "y_test = test_labels\n",
        "\n",
        "history = model.fit(X_train_pedd, y_train,\n",
        "                    epochs=5,\n",
        "                    verbose=True,\n",
        "                    validation_data=(X_test_pedd, y_test), batch_size=10)\n",
        "\n",
        "\n",
        "print(type(history))\n"
      ],
      "execution_count": 17,
      "outputs": [
        {
          "output_type": "stream",
          "text": [
            "Epoch 1/5\n",
            "1460/1460 [==============================] - 18s 13ms/step - loss: nan - accuracy: 0.4979 - val_loss: nan - val_accuracy: 0.0000e+00\n",
            "Epoch 2/5\n",
            "1460/1460 [==============================] - 18s 12ms/step - loss: nan - accuracy: 0.0000e+00 - val_loss: nan - val_accuracy: 0.0000e+00\n",
            "Epoch 3/5\n",
            "1460/1460 [==============================] - 18s 12ms/step - loss: nan - accuracy: 0.0000e+00 - val_loss: nan - val_accuracy: 0.0000e+00\n",
            "Epoch 4/5\n",
            "1460/1460 [==============================] - 24s 16ms/step - loss: nan - accuracy: 0.0000e+00 - val_loss: nan - val_accuracy: 0.0000e+00\n",
            "Epoch 5/5\n",
            "1460/1460 [==============================] - 18s 13ms/step - loss: nan - accuracy: 0.0000e+00 - val_loss: nan - val_accuracy: 0.0000e+00\n",
            "<class 'tensorflow.python.keras.callbacks.History'>\n"
          ],
          "name": "stdout"
        }
      ]
    },
    {
      "cell_type": "code",
      "metadata": {
        "id": "ZgCTDEmmwaT5",
        "outputId": "3c82c76c-0337-4963-d9c0-05c0b4ccd436",
        "colab": {
          "base_uri": "https://localhost:8080/",
          "height": 388
        }
      },
      "source": [
        "# evaluate the model\n",
        "#loss, accuracy = model.evaluate(padded_sentences, all_ticket_df['ticket_type'], verbose=0)\n",
        "#print('Accuracy: %f' % (accuracy*100))\n",
        "\n",
        "loss, accuracy = model.evaluate(X_train_pedd, y_train, verbose=False)\n",
        "print(\"Training Accuracy: {:.4f}\".format(accuracy*100))\n",
        "\n",
        "loss, accuracy = model.evaluate(X_test_pedd, y_test, verbose=False)\n",
        "print(\"Testing Accuracy:  {:.4f}\".format(accuracy*100))\n",
        "\n",
        "print(history.history.keys())\n",
        "plot_history(history)"
      ],
      "execution_count": 21,
      "outputs": [
        {
          "output_type": "stream",
          "text": [
            "Training Accuracy: 0.0000\n",
            "Testing Accuracy:  0.0000\n",
            "dict_keys(['loss', 'accuracy', 'val_loss', 'val_accuracy'])\n"
          ],
          "name": "stdout"
        },
        {
          "output_type": "display_data",
          "data": {
            "image/png": "[encoded data removed]",
            "text/plain": [
              "<Figure size 864x360 with 2 Axes>"
            ]
          },
          "metadata": {
            "tags": []
          }
        }
      ]
    },
    {
      "cell_type": "code",
      "metadata": {
        "id": "yH3Iw4qfwaT5",
        "outputId": "2ea393cb-06e0-491e-f28b-affd3b1a3d38",
        "colab": {
          "base_uri": "https://localhost:8080/"
        }
      },
      "source": [
        "#Predict\n",
        "\n",
        "textd_1 =\"hello movement has left available device please kind device denmark copenhagen denmark please source quotation shipping by lead\"\n",
        "textd_2 =\"cannot submit hours getting error job defined for person assignment human resources application error\"\n",
        "\n",
        "testd =[textd_1,textd_2]\n",
        "testd_tokens = tokenizer.texts_to_sequences(testd)\n",
        "testd_tokens_pad = pad_sequences(testd_tokens, length_long_sentence, padding='post')\n",
        "\n",
        "model.predict(x=testd_tokens_pad)"
      ],
      "execution_count": 22,
      "outputs": [
        {
          "output_type": "execute_result",
          "data": {
            "text/plain": [
              "array([[nan],\n",
              "       [nan]], dtype=float32)"
            ]
          },
          "metadata": {
            "tags": []
          },
          "execution_count": 22
        }
      ]
    },
    {
      "cell_type": "code",
      "metadata": {
        "id": "1ZFVNObawaT6"
      },
      "source": [
        ""
      ],
      "execution_count": null,
      "outputs": []
    }
  ]
}