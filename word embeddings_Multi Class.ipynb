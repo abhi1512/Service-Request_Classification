{
 "cells": [
  {
   "cell_type": "code",
   "execution_count": 1,
   "metadata": {
    "scrolled": true
   },
   "outputs": [
    {
     "name": "stderr",
     "output_type": "stream",
     "text": [
      "[nltk_data] Downloading package stopwords to\n",
      "[nltk_data]     C:\\Users\\Raj\\AppData\\Roaming\\nltk_data...\n",
      "[nltk_data]   Package stopwords is already up-to-date!\n",
      "[nltk_data] Downloading package wordnet to\n",
      "[nltk_data]     C:\\Users\\Raj\\AppData\\Roaming\\nltk_data...\n",
      "[nltk_data]   Package wordnet is already up-to-date!\n",
      "[nltk_data] Downloading package vader_lexicon to\n",
      "[nltk_data]     C:\\Users\\Raj\\AppData\\Roaming\\nltk_data...\n",
      "[nltk_data]   Package vader_lexicon is already up-to-date!\n",
      "[nltk_data] Downloading package averaged_perceptron_tagger to\n",
      "[nltk_data]     C:\\Users\\Raj\\AppData\\Roaming\\nltk_data...\n",
      "[nltk_data]   Package averaged_perceptron_tagger is already up-to-\n",
      "[nltk_data]       date!\n",
      "[nltk_data] Downloading package movie_reviews to\n",
      "[nltk_data]     C:\\Users\\Raj\\AppData\\Roaming\\nltk_data...\n",
      "[nltk_data]   Package movie_reviews is already up-to-date!\n",
      "[nltk_data] Downloading package punkt to\n",
      "[nltk_data]     C:\\Users\\Raj\\AppData\\Roaming\\nltk_data...\n",
      "[nltk_data]   Package punkt is already up-to-date!\n",
      "[nltk_data] Downloading package conll2000 to\n",
      "[nltk_data]     C:\\Users\\Raj\\AppData\\Roaming\\nltk_data...\n",
      "[nltk_data]   Package conll2000 is already up-to-date!\n",
      "[nltk_data] Downloading package brown to\n",
      "[nltk_data]     C:\\Users\\Raj\\AppData\\Roaming\\nltk_data...\n",
      "[nltk_data]   Package brown is already up-to-date!\n"
     ]
    }
   ],
   "source": [
    "from __future__ import print_function\n",
    "import os\n",
    "try:\n",
    "    from urllib.request import urlretrieve\n",
    "except ImportError:\n",
    "    from urllib import urlretrieve\n",
    "\n",
    "import numpy as np \n",
    "import pandas as pd \n",
    "import matplotlib.pyplot as plt\n",
    "import seaborn as sns\n",
    "import re\n",
    "import time\n",
    "import string\n",
    "import warnings\n",
    "\n",
    "# for all NLP related operations on text\n",
    "import nltk\n",
    "from nltk.corpus import stopwords\n",
    "from nltk.tokenize import sent_tokenize, word_tokenize\n",
    "from nltk.sentiment.vader import SentimentIntensityAnalyzer\n",
    "from nltk.stem import WordNetLemmatizer\n",
    "from nltk.stem.porter import *\n",
    "from nltk.classify import NaiveBayesClassifier\n",
    "#from wordcloud import WordCloud\n",
    "\n",
    "from sklearn.feature_extraction.text import CountVectorizer, TfidfVectorizer\n",
    "from sklearn.linear_model import LogisticRegression\n",
    "from sklearn.model_selection import train_test_split\n",
    "from sklearn.metrics import f1_score, confusion_matrix, accuracy_score\n",
    "from sklearn.svm import SVC\n",
    "from sklearn.naive_bayes import GaussianNB\n",
    "from sklearn import preprocessing\n",
    "\n",
    "import datetime as dt\n",
    "\n",
    "\n",
    "# ignoring all the warnings\n",
    "warnings.filterwarnings(\"ignore\", category=DeprecationWarning)\n",
    "\n",
    "# downloading stopwords corpus\n",
    "nltk.download('stopwords')\n",
    "nltk.download('wordnet')\n",
    "nltk.download('vader_lexicon')\n",
    "nltk.download('averaged_perceptron_tagger')\n",
    "nltk.download('movie_reviews')\n",
    "nltk.download('punkt')\n",
    "nltk.download('conll2000')\n",
    "nltk.download('brown')\n",
    "stopwords = set(stopwords.words(\"english\"))\n",
    "\n",
    "# for showing all the plots inline\n",
    "%matplotlib inline\n"
   ]
  },
  {
   "cell_type": "code",
   "execution_count": 2,
   "metadata": {},
   "outputs": [],
   "source": [
    "def download_file(file_url, folder_path, file_name):\n",
    "    file_path = os.path.join(folder_path, file_name)\n",
    "    if not os.path.exists(file_path):\n",
    "        print('Downloading file from ' + file_url + '...')\n",
    "        urlretrieve(file_url, file_path)\n",
    "        print('Done downloading file: '+file_path)\n",
    "    else:\n",
    "        print('File: ' + file_path + ' already exists.')"
   ]
  },
  {
   "cell_type": "code",
   "execution_count": 3,
   "metadata": {},
   "outputs": [],
   "source": [
    "def download_dataset():\n",
    "    all_Tickets=pd.read_csv(\"D:\\\\IIM\\\\Project Final\\\\all_tickets.csv\")\n",
    "    return all_Tickets"
   ]
  },
  {
   "cell_type": "code",
   "execution_count": 4,
   "metadata": {},
   "outputs": [],
   "source": [
    "all_ticket_df = download_dataset()"
   ]
  },
  {
   "cell_type": "code",
   "execution_count": 5,
   "metadata": {},
   "outputs": [],
   "source": [
    "all_ticket_df['body'] = (all_ticket_df['title'] +   \" \" + all_ticket_df['body']).map(str)"
   ]
  },
  {
   "cell_type": "code",
   "execution_count": 6,
   "metadata": {},
   "outputs": [],
   "source": [
    "def getRegexList():\n",
    "    regexList = []\n",
    "    regexList += ['From:(.*)\\r\\n']  # from line\n",
    "    regexList += ['RITM[0-9]*'] # request id\n",
    "    regexList += ['INC[0-9]*'] # incident id\n",
    "    regexList += ['TKT[0-9]*'] # ticket id\n",
    "    regexList += ['Sent:(.*)\\r\\n']  # sent to line\n",
    "    regexList += ['Received:(.*)\\r\\n']  # received data line\n",
    "    regexList += ['To:(.*)\\r\\n']  # to line\n",
    "    regexList += ['CC:(.*)\\r\\n']  # cc line\n",
    "    regexList += ['The information(.*)infection']  # footer\n",
    "    regexList += ['The information in this email is confidential and may be legally(.*)interference if you are not the intended recipient']  # footer\n",
    "    regexList += ['\\[cid:(.*)]']  # images cid\n",
    "    regexList += ['https?:[^\\]\\n\\r]+']  # https & http\n",
    "    regexList += ['Subject:']\n",
    "    regexList += ['[\\w\\d\\-\\_\\.]+@[\\w\\d\\-\\_\\.]+']  # emails\n",
    "    regexList += ['[0-9][\\-0–90-9 ]+']  # phones\n",
    "    regexList += ['[0-9]']  # numbers\n",
    "    regexList += ['[^a-zA-z 0-9]+']  # anything that is not a letter\n",
    "    regexList += ['[\\r\\n]']  # \\r\\n\n",
    "    regexList += [' [a-zA-Z] ']  # single letters\n",
    "    regexList += [' [a-zA-Z][a-zA-Z] ']  # two-letter words\n",
    "    regexList += [\"  \"]  # double spaces\n",
    "    regexList += [\" \"]  # Single spaces\n",
    "    regexList += ['^[_a-z0-9-]+(\\.[_a-z0-9-]+)*@[a-z0-9-]+(\\.[a-z0-9-]+)*(\\.[a-z]{2,4})$']\n",
    "    regexList += ['[\\w\\d\\-\\_\\.]+ @ [\\w\\d\\-\\_\\.]+']\n",
    "    regexList += ['Subject:']\n",
    "    regexList += ['[^a-zA-Z]']\n",
    "\n",
    "    return regexList\n",
    "\n",
    "def removeString(data, regex):\n",
    "    return data.str.lower().str.replace(regex.lower(), ' ')\n",
    "\n",
    "def datacleansing(all_ticket_df,getRegexList):\n",
    "    # Removing URLs\n",
    "    all_ticket_df['body'] = all_ticket_df['body'].apply(lambda x: re.sub(r\"https\\S+\", \"\", str(x)))\n",
    "\n",
    "    # Converting all tweets to lowercase¶\n",
    "    all_ticket_df['body'] = all_ticket_df['body'].apply(lambda x: x.lower())\n",
    "\n",
    "    #Carriage Returns & Tabs\n",
    "    all_ticket_df['body'].replace(to_replace=[r\"\\\\t|\\\\n|\\\\r\", \"\\t|\\n|\\r\"], value=[\" \",\" \"], regex=True, inplace=True)\n",
    "\n",
    "    #Special Characters\n",
    "    spec_chars = [\"!\",'\"',\"#\",\"%\",\"&\",\"'\",\"(\",\")\",\n",
    "                \"*\",\"+\",\",\",\"-\",\".\",\"/\",\":\",\";\",\"<\",\n",
    "                \"=\",\">\",\"?\",\"@\",\"[\",\"\\\\\",\"]\",\"^\",\"_\",\n",
    "                \"`\",\"{\",\"|\",\"}\",\"~\",\"–\",\"-\"]\n",
    "    for char in spec_chars:\n",
    "        all_ticket_df['body'] = all_ticket_df['body'].apply(lambda x:x.replace(char, ' '))\n",
    "\n",
    "    #Extra spaces\n",
    "    all_ticket_df['body'].replace('\\s+', ' ', regex=True, inplace=True)\n",
    "\n",
    "    #Remove non ASCII words\n",
    "    all_ticket_df['body']=all_ticket_df['body'].apply(lambda x:x.encode(\"ascii\",\"ignore\").decode())\n",
    "    \n",
    "    #Removing StopWords\n",
    "    nltk.download('stopwords')\n",
    "    stop=set(stopwords)\n",
    "    stop.update(['please', 'request', 'kindly', 'covid19', 'requesting'])\n",
    "    all_ticket_df['body-tokenized']=all_ticket_df['body'].apply(lambda x: [item for item in x if item not in stop])\n",
    "\n",
    "    # Create list of regex to remove sensitive data\n",
    "    for regex in getRegexList:\n",
    "        all_ticket_df['body'] = removeString(all_ticket_df['body'] , regex)\n",
    "     \n",
    "\n",
    "    # Remove empty strings and null rows after removing non english words\n",
    "    all_ticket_df = all_ticket_df[all_ticket_df.body != \" \"]\n",
    "    all_ticket_df = all_ticket_df[all_ticket_df.body != \"\"]\n",
    "    all_ticket_df = all_ticket_df[~all_ticket_df.body.isnull()]\n",
    "    all_ticket_df = all_ticket_df.dropna()\n",
    "\n",
    "    return all_ticket_df\n",
    "\n",
    "\n",
    "\n",
    "def encryptSingleColumn(data):\n",
    "    le = preprocessing.LabelEncoder()\n",
    "    le.fit(data)\n",
    "    return le.transform(data)\n",
    "\n",
    "def encryptColumnsCollection(data, columnsToEncrypt):\n",
    "    for column in columnsToEncrypt:\n",
    "        data[column] = encryptSingleColumn(data[column])\n",
    "    return data"
   ]
  },
  {
   "cell_type": "code",
   "execution_count": 7,
   "metadata": {},
   "outputs": [],
   "source": [
    "import matplotlib.pyplot as plt\n",
    "plt.style.use('ggplot')\n",
    "\n",
    "def plot_history(history):\n",
    "        \n",
    "    acc = history.history['accuracy']\n",
    "    val_acc = history.history['val_accuracy']\n",
    "    loss = history.history['loss']\n",
    "    val_loss = history.history['val_loss']\n",
    "    \n",
    "    x = range(1, len(acc) + 1)\n",
    "\n",
    "    plt.figure(figsize=(12, 5))\n",
    "    plt.subplot(1, 2, 1)\n",
    "    plt.plot(x, acc, 'b', label='Training Accuracy')\n",
    "    plt.plot(x, val_acc, 'r', label='Validation Accuracy')\n",
    "    plt.title('Model Accuracy')\n",
    "    plt.legend()\n",
    "    plt.subplot(1, 2, 2)\n",
    "    plt.plot(x, loss, 'b', label='Training loss')\n",
    "    plt.plot(x, val_loss, 'r', label='Validation loss')\n",
    "    plt.title('Model Loss')\n",
    "    plt.legend()\n",
    "    "
   ]
  },
  {
   "cell_type": "code",
   "execution_count": 8,
   "metadata": {},
   "outputs": [
    {
     "name": "stderr",
     "output_type": "stream",
     "text": [
      "[nltk_data] Downloading package stopwords to\n",
      "[nltk_data]     C:\\Users\\Raj\\AppData\\Roaming\\nltk_data...\n",
      "[nltk_data]   Package stopwords is already up-to-date!\n"
     ]
    }
   ],
   "source": [
    "all_ticket_df = datacleansing(all_ticket_df,getRegexList())"
   ]
  },
  {
   "cell_type": "code",
   "execution_count": 9,
   "metadata": {},
   "outputs": [
    {
     "data": {
      "text/html": [
       "<div>\n",
       "<style scoped>\n",
       "    .dataframe tbody tr th:only-of-type {\n",
       "        vertical-align: middle;\n",
       "    }\n",
       "\n",
       "    .dataframe tbody tr th {\n",
       "        vertical-align: top;\n",
       "    }\n",
       "\n",
       "    .dataframe thead th {\n",
       "        text-align: right;\n",
       "    }\n",
       "</style>\n",
       "<table border=\"1\" class=\"dataframe\">\n",
       "  <thead>\n",
       "    <tr style=\"text-align: right;\">\n",
       "      <th></th>\n",
       "      <th>title</th>\n",
       "      <th>body</th>\n",
       "      <th>ticket_type</th>\n",
       "      <th>category</th>\n",
       "      <th>sub_category1</th>\n",
       "      <th>sub_category2</th>\n",
       "      <th>business_service</th>\n",
       "      <th>urgency</th>\n",
       "      <th>impact</th>\n",
       "      <th>body-tokenized</th>\n",
       "    </tr>\n",
       "  </thead>\n",
       "  <tbody>\n",
       "    <tr>\n",
       "      <th>1</th>\n",
       "      <td>connection with icon</td>\n",
       "      <td>connection with icon icon dear please setup ic...</td>\n",
       "      <td>1</td>\n",
       "      <td>6</td>\n",
       "      <td>22</td>\n",
       "      <td>7</td>\n",
       "      <td>26</td>\n",
       "      <td>3</td>\n",
       "      <td>4</td>\n",
       "      <td>[c, n, n, e, c, n,  , w, h,  , c, n,  , c, n, ...</td>\n",
       "    </tr>\n",
       "    <tr>\n",
       "      <th>2</th>\n",
       "      <td>work experience user</td>\n",
       "      <td>work experience user work experience user work...</td>\n",
       "      <td>1</td>\n",
       "      <td>5</td>\n",
       "      <td>13</td>\n",
       "      <td>7</td>\n",
       "      <td>32</td>\n",
       "      <td>3</td>\n",
       "      <td>4</td>\n",
       "      <td>[w, r, k,  , e, x, p, e, r, e, n, c, e,  , u, ...</td>\n",
       "    </tr>\n",
       "    <tr>\n",
       "      <th>3</th>\n",
       "      <td>requesting for meeting</td>\n",
       "      <td>requesting for meeting requesting meeting plea...</td>\n",
       "      <td>1</td>\n",
       "      <td>5</td>\n",
       "      <td>13</td>\n",
       "      <td>7</td>\n",
       "      <td>32</td>\n",
       "      <td>3</td>\n",
       "      <td>4</td>\n",
       "      <td>[r, e, q, u, e, n, g,  , f, r,  , e, e, n, g, ...</td>\n",
       "    </tr>\n",
       "    <tr>\n",
       "      <th>4</th>\n",
       "      <td>reset passwords for external accounts</td>\n",
       "      <td>reset passwords for external accounts expire d...</td>\n",
       "      <td>1</td>\n",
       "      <td>4</td>\n",
       "      <td>2</td>\n",
       "      <td>76</td>\n",
       "      <td>4</td>\n",
       "      <td>3</td>\n",
       "      <td>4</td>\n",
       "      <td>[r, e, e,  , p, w, r,  , f, r,  , e, x, e, r, ...</td>\n",
       "    </tr>\n",
       "    <tr>\n",
       "      <th>5</th>\n",
       "      <td>mail</td>\n",
       "      <td>mail verification warning has got attached ple...</td>\n",
       "      <td>1</td>\n",
       "      <td>4</td>\n",
       "      <td>3</td>\n",
       "      <td>7</td>\n",
       "      <td>89</td>\n",
       "      <td>3</td>\n",
       "      <td>4</td>\n",
       "      <td>[l,  , v, e, r, f, c, n,  , w, r, n, n, g,  , ...</td>\n",
       "    </tr>\n",
       "  </tbody>\n",
       "</table>\n",
       "</div>"
      ],
      "text/plain": [
       "                                   title  \\\n",
       "1                   connection with icon   \n",
       "2                   work experience user   \n",
       "3                 requesting for meeting   \n",
       "4  reset passwords for external accounts   \n",
       "5                                   mail   \n",
       "\n",
       "                                                body  ticket_type  category  \\\n",
       "1  connection with icon icon dear please setup ic...            1         6   \n",
       "2  work experience user work experience user work...            1         5   \n",
       "3  requesting for meeting requesting meeting plea...            1         5   \n",
       "4  reset passwords for external accounts expire d...            1         4   \n",
       "5  mail verification warning has got attached ple...            1         4   \n",
       "\n",
       "   sub_category1  sub_category2  business_service  urgency  impact  \\\n",
       "1             22              7                26        3       4   \n",
       "2             13              7                32        3       4   \n",
       "3             13              7                32        3       4   \n",
       "4              2             76                 4        3       4   \n",
       "5              3              7                89        3       4   \n",
       "\n",
       "                                      body-tokenized  \n",
       "1  [c, n, n, e, c, n,  , w, h,  , c, n,  , c, n, ...  \n",
       "2  [w, r, k,  , e, x, p, e, r, e, n, c, e,  , u, ...  \n",
       "3  [r, e, q, u, e, n, g,  , f, r,  , e, e, n, g, ...  \n",
       "4  [r, e, e,  , p, w, r,  , f, r,  , e, x, e, r, ...  \n",
       "5  [l,  , v, e, r, f, c, n,  , w, r, n, n, g,  , ...  "
      ]
     },
     "execution_count": 9,
     "metadata": {},
     "output_type": "execute_result"
    }
   ],
   "source": [
    "all_ticket_df.head()"
   ]
  },
  {
   "cell_type": "code",
   "execution_count": 10,
   "metadata": {},
   "outputs": [],
   "source": [
    "\n",
    "labelData = all_ticket_df['ticket_type']\n",
    "data = all_ticket_df['body']\n",
    "# Split dataset into training and testing data\n",
    "train_data, test_data, train_labels, test_labels = train_test_split(\n",
    "        data, labelData, test_size=0.2\n",
    "    )  # split data to train/test sets with 80:20 ratio\n"
   ]
  },
  {
   "cell_type": "code",
   "execution_count": 11,
   "metadata": {},
   "outputs": [
    {
     "name": "stderr",
     "output_type": "stream",
     "text": [
      "Using TensorFlow backend.\n"
     ]
    }
   ],
   "source": [
    "from numpy import array\n",
    "from keras.preprocessing.text import one_hot\n",
    "from keras.preprocessing.sequence import pad_sequences\n",
    "from keras.models import Sequential\n",
    "from keras.layers import Dense\n",
    "from keras.layers import Flatten\n",
    "from keras.layers.embeddings import Embedding"
   ]
  },
  {
   "cell_type": "code",
   "execution_count": 12,
   "metadata": {},
   "outputs": [],
   "source": [
    "# load the whole embedding into memory\n",
    "from keras.preprocessing.text import Tokenizer\n",
    "tokenizer = Tokenizer(num_words=100000)\n",
    "tokenizer.fit_on_texts(train_data)\n",
    "X_train = tokenizer.texts_to_sequences(train_data)\n",
    "X_test = tokenizer.texts_to_sequences(test_data)\n",
    "vocab_length = len(tokenizer.word_index) + 1"
   ]
  },
  {
   "cell_type": "code",
   "execution_count": 13,
   "metadata": {},
   "outputs": [
    {
     "name": "stdout",
     "output_type": "stream",
     "text": [
      "911\n"
     ]
    }
   ],
   "source": [
    "corpus = all_ticket_df['body'].to_list()\n",
    "word_count = lambda sentence: len(word_tokenize(sentence))\n",
    "longest_sentence = max(corpus, key=word_count)\n",
    "length_long_sentence = len(word_tokenize(longest_sentence))\n",
    "\n",
    "print(length_long_sentence)"
   ]
  },
  {
   "cell_type": "code",
   "execution_count": 14,
   "metadata": {},
   "outputs": [],
   "source": [
    "from keras.utils import to_categorical\n",
    "from keras.preprocessing import sequence\n",
    "#print(len(x_train))\n",
    "#print(len(X_test))\n",
    "#print(np.shape(x_train))\n",
    "#print(np.shape(X_test))\n",
    "\n",
    "X_train = pad_sequences(X_train, length_long_sentence, padding='post')\n",
    "X_test = pad_sequences(X_test, length_long_sentence, padding='post')\n"
   ]
  },
  {
   "cell_type": "code",
   "execution_count": 37,
   "metadata": {
    "scrolled": true
   },
   "outputs": [
    {
     "name": "stdout",
     "output_type": "stream",
     "text": [
      "Model: \"sequential_5\"\n",
      "_________________________________________________________________\n",
      "Layer (type)                 Output Shape              Param #   \n",
      "=================================================================\n",
      "embedding_5 (Embedding)      (None, 911, 100)          1162600   \n",
      "_________________________________________________________________\n",
      "gru_5 (GRU)                  (None, 50)                22650     \n",
      "_________________________________________________________________\n",
      "dense_5 (Dense)              (None, 1)                 51        \n",
      "=================================================================\n",
      "Total params: 1,185,301\n",
      "Trainable params: 1,185,301\n",
      "Non-trainable params: 0\n",
      "_________________________________________________________________\n"
     ]
    }
   ],
   "source": [
    "# define model\n",
    "from keras.models import Sequential\n",
    "from keras.layers import Dense, Embedding, LSTM, GRU\n",
    "from keras.layers.embeddings import Embedding\n",
    "from keras.optimizers import TFOptimizer\n",
    "\n",
    "import tensorflow.compat.v1 as tf\n",
    "tf.disable_v2_behavior()\n",
    "\n",
    "\n",
    "embedding_dim =100\n",
    "\n",
    "model = Sequential()\n",
    "model.add(Embedding(vocab_length, embedding_dim, input_length=length_long_sentence))\n",
    "\n",
    "model.add(GRU(units=50, dropout=0.2, recurrent_dropout=0.2))\n",
    "\n",
    "model.add(Dense(1, activation = 'softmax'))\n",
    "\n",
    "#sparse_categorical_crossentropy\n",
    "#model.compile(optimizer='sgd', loss='sparse_categorical_crossentropy', metrics=['accuracy'])\n",
    "model.compile(optimizer=TFOptimizer(tf.train.GradientDescentOptimizer(0.5)), loss='mse', metrics=['accuracy'])#\n",
    "#model.compile(optimizer=TFOptimizer(tf.train.GradientDescentOptimizer(0.5)), loss='sparse_categorical_crossentropy', metrics=['accuracy'])\n",
    "\n",
    "model.summary()"
   ]
  },
  {
   "cell_type": "code",
   "execution_count": 38,
   "metadata": {
    "scrolled": true
   },
   "outputs": [
    {
     "name": "stdout",
     "output_type": "stream",
     "text": [
      "9568\n",
      "9568\n",
      "Train on 38269 samples, validate on 9568 samples\n",
      "Epoch 1/2\n",
      "38269/38269 [==============================] - 715s 19ms/step - loss: 0.2893 - accuracy: 0.7107 - val_loss: 0.2856 - val_accuracy: 0.7144\n",
      "Epoch 2/2\n",
      "38269/38269 [==============================] - 725s 19ms/step - loss: 0.2893 - accuracy: 0.7107 - val_loss: 0.2856 - val_accuracy: 0.7144\n"
     ]
    }
   ],
   "source": [
    "# fit the model\n",
    "\n",
    "y_train = train_labels \n",
    "y_test = test_labels\n",
    "\n",
    "print(len(X_test))\n",
    "print(len(y_test))\n",
    "\n",
    "history = model.fit(X_train, y_train,\n",
    "                    epochs=2,\n",
    "                    verbose=True,\n",
    "                    validation_data=(X_test, y_test))\n",
    "\n"
   ]
  },
  {
   "cell_type": "code",
   "execution_count": 39,
   "metadata": {},
   "outputs": [
    {
     "name": "stdout",
     "output_type": "stream",
     "text": [
      "Training Accuracy: 0.7107\n",
      "Testing Accuracy:  0.7144\n",
      "dict_keys(['val_loss', 'val_accuracy', 'loss', 'accuracy'])\n"
     ]
    },
    {
     "data": {
      "image/png": "[encoded data removed]",
      "text/plain": [
       "<Figure size 864x360 with 2 Axes>"
      ]
     },
     "metadata": {},
     "output_type": "display_data"
    }
   ],
   "source": [
    "# evaluate the model\n",
    "#loss, accuracy = model.evaluate(padded_sentences, all_ticket_df['ticket_type'], verbose=0)\n",
    "#print('Accuracy: %f' % (accuracy*100))\n",
    "\n",
    "loss, accuracy = model.evaluate(X_train, y_train, verbose=False)\n",
    "print(\"Training Accuracy: {:.4f}\".format(accuracy))\n",
    "\n",
    "loss, accuracy = model.evaluate(X_test, y_test, verbose=False)\n",
    "print(\"Testing Accuracy:  {:.4f}\".format(accuracy))\n",
    "\n",
    "print(history.history.keys())\n",
    "plot_history(history)"
   ]
  },
  {
   "cell_type": "code",
   "execution_count": 40,
   "metadata": {},
   "outputs": [
    {
     "data": {
      "text/plain": [
       "array([[1.],\n",
       "       [1.]], dtype=float32)"
      ]
     },
     "execution_count": 40,
     "metadata": {},
     "output_type": "execute_result"
    }
   ],
   "source": [
    "#Predict\n",
    "\n",
    "textd_1 =\"hello movement has left available device please kind device denmark copenhagen denmark please source quotation shipping by lead\"\n",
    "textd_2 =\"cannot submit hours getting error job defined for person assignment human resources application error\"\n",
    "\n",
    "testd =[textd_1,textd_2]\n",
    "testd_tokens = tokenizer.texts_to_sequences(testd)\n",
    "testd_tokens_pad = pad_sequences(testd_tokens, length_long_sentence, padding='post')\n",
    "\n",
    "model.predict(x=testd_tokens_pad)"
   ]
  },
  {
   "cell_type": "code",
   "execution_count": null,
   "metadata": {},
   "outputs": [],
   "source": []
  }
 ],
 "metadata": {
  "kernelspec": {
   "display_name": "Python 3",
   "language": "python",
   "name": "python3"
  },
  "language_info": {
   "codemirror_mode": {
    "name": "ipython",
    "version": 3
   },
   "file_extension": ".py",
   "mimetype": "text/x-python",
   "name": "python",
   "nbconvert_exporter": "python",
   "pygments_lexer": "ipython3",
   "version": "3.7.9"
  }
 },
 "nbformat": 4,
 "nbformat_minor": 4
}
